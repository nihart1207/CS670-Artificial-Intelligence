{
  "nbformat": 4,
  "nbformat_minor": 0,
  "metadata": {
    "colab": {
      "provenance": []
    },
    "kernelspec": {
      "name": "python3",
      "display_name": "Python 3"
    },
    "language_info": {
      "name": "python"
    }
  },
  "cells": [
    {
      "cell_type": "code",
      "execution_count": null,
      "metadata": {
        "id": "Fgh4KvTb0IfL"
      },
      "outputs": [],
      "source": [
        "import pandas as pd\n",
        "import plotly.express as px\n",
        "import numpy as np\n",
        "import matplotlib.pyplot as plt\n",
        "import torch\n",
        "import torch.nn as nn\n",
        "import torch.nn.functional as F\n",
        "from torch.utils.data import Dataset\n",
        "from torch.utils.data import DataLoader\n",
        "from torchvision import datasets\n",
        "from torchvision.transforms import ToTensor"
      ]
    },
    {
      "cell_type": "code",
      "source": [
        "from google.colab import drive\n",
        "drive.mount('/content/drive')"
      ],
      "metadata": {
        "colab": {
          "base_uri": "https://localhost:8080/"
        },
        "id": "34QiRMWvpkqN",
        "outputId": "d9a71191-c95c-4aac-f01d-f91090341267"
      },
      "execution_count": null,
      "outputs": [
        {
          "output_type": "stream",
          "name": "stdout",
          "text": [
            "Drive already mounted at /content/drive; to attempt to forcibly remount, call drive.mount(\"/content/drive\", force_remount=True).\n"
          ]
        }
      ]
    },
    {
      "cell_type": "code",
      "source": [
        "dataset = pd.read_csv(\"/content/drive/MyDrive/data/heart.csv\")\n",
        "dataset[\"index\"] = pd.Series(dataset.index.values)"
      ],
      "metadata": {
        "id": "GSPXO9xv0pKM"
      },
      "execution_count": null,
      "outputs": []
    },
    {
      "cell_type": "code",
      "source": [
        "dataset.size"
      ],
      "metadata": {
        "id": "vyk0j-O50zGY",
        "colab": {
          "base_uri": "https://localhost:8080/"
        },
        "outputId": "f71ec219-841d-44b0-99d8-18a563de41c8"
      },
      "execution_count": null,
      "outputs": [
        {
          "output_type": "execute_result",
          "data": {
            "text/plain": [
              "4545"
            ]
          },
          "metadata": {},
          "execution_count": 52
        }
      ]
    },
    {
      "cell_type": "code",
      "source": [
        "dataset.head(5)"
      ],
      "metadata": {
        "id": "QlExI2qx04pP",
        "colab": {
          "base_uri": "https://localhost:8080/",
          "height": 206
        },
        "outputId": "99301af9-99dd-4811-ae1f-cfcb9d7bea51"
      },
      "execution_count": null,
      "outputs": [
        {
          "output_type": "execute_result",
          "data": {
            "text/plain": [
              "   age  sex  cp  trtbps  chol  fbs  restecg  thalachh  exng  oldpeak  slp  \\\n",
              "0   63    1   3     145   233    1        0       150     0      2.3    0   \n",
              "1   37    1   2     130   250    0        1       187     0      3.5    0   \n",
              "2   41    0   1     130   204    0        0       172     0      1.4    2   \n",
              "3   56    1   1     120   236    0        1       178     0      0.8    2   \n",
              "4   57    0   0     120   354    0        1       163     1      0.6    2   \n",
              "\n",
              "   caa  thall  output  index  \n",
              "0    0      1       1      0  \n",
              "1    0      2       1      1  \n",
              "2    0      2       1      2  \n",
              "3    0      2       1      3  \n",
              "4    0      2       1      4  "
            ],
            "text/html": [
              "\n",
              "  <div id=\"df-bd82ffeb-4c7b-4eb1-bfbe-319a4cb9b298\">\n",
              "    <div class=\"colab-df-container\">\n",
              "      <div>\n",
              "<style scoped>\n",
              "    .dataframe tbody tr th:only-of-type {\n",
              "        vertical-align: middle;\n",
              "    }\n",
              "\n",
              "    .dataframe tbody tr th {\n",
              "        vertical-align: top;\n",
              "    }\n",
              "\n",
              "    .dataframe thead th {\n",
              "        text-align: right;\n",
              "    }\n",
              "</style>\n",
              "<table border=\"1\" class=\"dataframe\">\n",
              "  <thead>\n",
              "    <tr style=\"text-align: right;\">\n",
              "      <th></th>\n",
              "      <th>age</th>\n",
              "      <th>sex</th>\n",
              "      <th>cp</th>\n",
              "      <th>trtbps</th>\n",
              "      <th>chol</th>\n",
              "      <th>fbs</th>\n",
              "      <th>restecg</th>\n",
              "      <th>thalachh</th>\n",
              "      <th>exng</th>\n",
              "      <th>oldpeak</th>\n",
              "      <th>slp</th>\n",
              "      <th>caa</th>\n",
              "      <th>thall</th>\n",
              "      <th>output</th>\n",
              "      <th>index</th>\n",
              "    </tr>\n",
              "  </thead>\n",
              "  <tbody>\n",
              "    <tr>\n",
              "      <th>0</th>\n",
              "      <td>63</td>\n",
              "      <td>1</td>\n",
              "      <td>3</td>\n",
              "      <td>145</td>\n",
              "      <td>233</td>\n",
              "      <td>1</td>\n",
              "      <td>0</td>\n",
              "      <td>150</td>\n",
              "      <td>0</td>\n",
              "      <td>2.3</td>\n",
              "      <td>0</td>\n",
              "      <td>0</td>\n",
              "      <td>1</td>\n",
              "      <td>1</td>\n",
              "      <td>0</td>\n",
              "    </tr>\n",
              "    <tr>\n",
              "      <th>1</th>\n",
              "      <td>37</td>\n",
              "      <td>1</td>\n",
              "      <td>2</td>\n",
              "      <td>130</td>\n",
              "      <td>250</td>\n",
              "      <td>0</td>\n",
              "      <td>1</td>\n",
              "      <td>187</td>\n",
              "      <td>0</td>\n",
              "      <td>3.5</td>\n",
              "      <td>0</td>\n",
              "      <td>0</td>\n",
              "      <td>2</td>\n",
              "      <td>1</td>\n",
              "      <td>1</td>\n",
              "    </tr>\n",
              "    <tr>\n",
              "      <th>2</th>\n",
              "      <td>41</td>\n",
              "      <td>0</td>\n",
              "      <td>1</td>\n",
              "      <td>130</td>\n",
              "      <td>204</td>\n",
              "      <td>0</td>\n",
              "      <td>0</td>\n",
              "      <td>172</td>\n",
              "      <td>0</td>\n",
              "      <td>1.4</td>\n",
              "      <td>2</td>\n",
              "      <td>0</td>\n",
              "      <td>2</td>\n",
              "      <td>1</td>\n",
              "      <td>2</td>\n",
              "    </tr>\n",
              "    <tr>\n",
              "      <th>3</th>\n",
              "      <td>56</td>\n",
              "      <td>1</td>\n",
              "      <td>1</td>\n",
              "      <td>120</td>\n",
              "      <td>236</td>\n",
              "      <td>0</td>\n",
              "      <td>1</td>\n",
              "      <td>178</td>\n",
              "      <td>0</td>\n",
              "      <td>0.8</td>\n",
              "      <td>2</td>\n",
              "      <td>0</td>\n",
              "      <td>2</td>\n",
              "      <td>1</td>\n",
              "      <td>3</td>\n",
              "    </tr>\n",
              "    <tr>\n",
              "      <th>4</th>\n",
              "      <td>57</td>\n",
              "      <td>0</td>\n",
              "      <td>0</td>\n",
              "      <td>120</td>\n",
              "      <td>354</td>\n",
              "      <td>0</td>\n",
              "      <td>1</td>\n",
              "      <td>163</td>\n",
              "      <td>1</td>\n",
              "      <td>0.6</td>\n",
              "      <td>2</td>\n",
              "      <td>0</td>\n",
              "      <td>2</td>\n",
              "      <td>1</td>\n",
              "      <td>4</td>\n",
              "    </tr>\n",
              "  </tbody>\n",
              "</table>\n",
              "</div>\n",
              "      <button class=\"colab-df-convert\" onclick=\"convertToInteractive('df-bd82ffeb-4c7b-4eb1-bfbe-319a4cb9b298')\"\n",
              "              title=\"Convert this dataframe to an interactive table.\"\n",
              "              style=\"display:none;\">\n",
              "        \n",
              "  <svg xmlns=\"http://www.w3.org/2000/svg\" height=\"24px\"viewBox=\"0 0 24 24\"\n",
              "       width=\"24px\">\n",
              "    <path d=\"M0 0h24v24H0V0z\" fill=\"none\"/>\n",
              "    <path d=\"M18.56 5.44l.94 2.06.94-2.06 2.06-.94-2.06-.94-.94-2.06-.94 2.06-2.06.94zm-11 1L8.5 8.5l.94-2.06 2.06-.94-2.06-.94L8.5 2.5l-.94 2.06-2.06.94zm10 10l.94 2.06.94-2.06 2.06-.94-2.06-.94-.94-2.06-.94 2.06-2.06.94z\"/><path d=\"M17.41 7.96l-1.37-1.37c-.4-.4-.92-.59-1.43-.59-.52 0-1.04.2-1.43.59L10.3 9.45l-7.72 7.72c-.78.78-.78 2.05 0 2.83L4 21.41c.39.39.9.59 1.41.59.51 0 1.02-.2 1.41-.59l7.78-7.78 2.81-2.81c.8-.78.8-2.07 0-2.86zM5.41 20L4 18.59l7.72-7.72 1.47 1.35L5.41 20z\"/>\n",
              "  </svg>\n",
              "      </button>\n",
              "      \n",
              "  <style>\n",
              "    .colab-df-container {\n",
              "      display:flex;\n",
              "      flex-wrap:wrap;\n",
              "      gap: 12px;\n",
              "    }\n",
              "\n",
              "    .colab-df-convert {\n",
              "      background-color: #E8F0FE;\n",
              "      border: none;\n",
              "      border-radius: 50%;\n",
              "      cursor: pointer;\n",
              "      display: none;\n",
              "      fill: #1967D2;\n",
              "      height: 32px;\n",
              "      padding: 0 0 0 0;\n",
              "      width: 32px;\n",
              "    }\n",
              "\n",
              "    .colab-df-convert:hover {\n",
              "      background-color: #E2EBFA;\n",
              "      box-shadow: 0px 1px 2px rgba(60, 64, 67, 0.3), 0px 1px 3px 1px rgba(60, 64, 67, 0.15);\n",
              "      fill: #174EA6;\n",
              "    }\n",
              "\n",
              "    [theme=dark] .colab-df-convert {\n",
              "      background-color: #3B4455;\n",
              "      fill: #D2E3FC;\n",
              "    }\n",
              "\n",
              "    [theme=dark] .colab-df-convert:hover {\n",
              "      background-color: #434B5C;\n",
              "      box-shadow: 0px 1px 3px 1px rgba(0, 0, 0, 0.15);\n",
              "      filter: drop-shadow(0px 1px 2px rgba(0, 0, 0, 0.3));\n",
              "      fill: #FFFFFF;\n",
              "    }\n",
              "  </style>\n",
              "\n",
              "      <script>\n",
              "        const buttonEl =\n",
              "          document.querySelector('#df-bd82ffeb-4c7b-4eb1-bfbe-319a4cb9b298 button.colab-df-convert');\n",
              "        buttonEl.style.display =\n",
              "          google.colab.kernel.accessAllowed ? 'block' : 'none';\n",
              "\n",
              "        async function convertToInteractive(key) {\n",
              "          const element = document.querySelector('#df-bd82ffeb-4c7b-4eb1-bfbe-319a4cb9b298');\n",
              "          const dataTable =\n",
              "            await google.colab.kernel.invokeFunction('convertToInteractive',\n",
              "                                                     [key], {});\n",
              "          if (!dataTable) return;\n",
              "\n",
              "          const docLinkHtml = 'Like what you see? Visit the ' +\n",
              "            '<a target=\"_blank\" href=https://colab.research.google.com/notebooks/data_table.ipynb>data table notebook</a>'\n",
              "            + ' to learn more about interactive tables.';\n",
              "          element.innerHTML = '';\n",
              "          dataTable['output_type'] = 'display_data';\n",
              "          await google.colab.output.renderOutput(dataTable, element);\n",
              "          const docLink = document.createElement('div');\n",
              "          docLink.innerHTML = docLinkHtml;\n",
              "          element.appendChild(docLink);\n",
              "        }\n",
              "      </script>\n",
              "    </div>\n",
              "  </div>\n",
              "  "
            ]
          },
          "metadata": {},
          "execution_count": 53
        }
      ]
    },
    {
      "cell_type": "code",
      "source": [
        "#The number of features in the dataset are 14\n"
      ],
      "metadata": {
        "id": "N9LBPAZ31CLE"
      },
      "execution_count": null,
      "outputs": []
    },
    {
      "cell_type": "code",
      "source": [
        "dataset.sample"
      ],
      "metadata": {
        "id": "JIzZoEKf1jBK",
        "colab": {
          "base_uri": "https://localhost:8080/"
        },
        "outputId": "db0b7f35-8990-4a4d-d55f-534a55238eef"
      },
      "execution_count": null,
      "outputs": [
        {
          "output_type": "execute_result",
          "data": {
            "text/plain": [
              "<bound method NDFrame.sample of      age  sex  cp  trtbps  chol  fbs  restecg  thalachh  exng  oldpeak  slp  \\\n",
              "0     63    1   3     145   233    1        0       150     0      2.3    0   \n",
              "1     37    1   2     130   250    0        1       187     0      3.5    0   \n",
              "2     41    0   1     130   204    0        0       172     0      1.4    2   \n",
              "3     56    1   1     120   236    0        1       178     0      0.8    2   \n",
              "4     57    0   0     120   354    0        1       163     1      0.6    2   \n",
              "..   ...  ...  ..     ...   ...  ...      ...       ...   ...      ...  ...   \n",
              "298   57    0   0     140   241    0        1       123     1      0.2    1   \n",
              "299   45    1   3     110   264    0        1       132     0      1.2    1   \n",
              "300   68    1   0     144   193    1        1       141     0      3.4    1   \n",
              "301   57    1   0     130   131    0        1       115     1      1.2    1   \n",
              "302   57    0   1     130   236    0        0       174     0      0.0    1   \n",
              "\n",
              "     caa  thall  output  index  \n",
              "0      0      1       1      0  \n",
              "1      0      2       1      1  \n",
              "2      0      2       1      2  \n",
              "3      0      2       1      3  \n",
              "4      0      2       1      4  \n",
              "..   ...    ...     ...    ...  \n",
              "298    0      3       0    298  \n",
              "299    0      3       0    299  \n",
              "300    2      3       0    300  \n",
              "301    1      3       0    301  \n",
              "302    1      2       0    302  \n",
              "\n",
              "[303 rows x 15 columns]>"
            ]
          },
          "metadata": {},
          "execution_count": 55
        }
      ]
    },
    {
      "cell_type": "code",
      "source": [
        "#The sample size of data is of 303rows and 14columns"
      ],
      "metadata": {
        "id": "q99WVDhy18b-"
      },
      "execution_count": null,
      "outputs": []
    },
    {
      "cell_type": "code",
      "source": [
        "dataset.isnull().sum()"
      ],
      "metadata": {
        "id": "H741pZoi2Hfn",
        "colab": {
          "base_uri": "https://localhost:8080/"
        },
        "outputId": "0c38bcbe-9a24-414f-fa8c-c2c587001c6d"
      },
      "execution_count": null,
      "outputs": [
        {
          "output_type": "execute_result",
          "data": {
            "text/plain": [
              "age         0\n",
              "sex         0\n",
              "cp          0\n",
              "trtbps      0\n",
              "chol        0\n",
              "fbs         0\n",
              "restecg     0\n",
              "thalachh    0\n",
              "exng        0\n",
              "oldpeak     0\n",
              "slp         0\n",
              "caa         0\n",
              "thall       0\n",
              "output      0\n",
              "index       0\n",
              "dtype: int64"
            ]
          },
          "metadata": {},
          "execution_count": 57
        }
      ]
    },
    {
      "cell_type": "code",
      "source": [
        "#No null values were found in the dataset"
      ],
      "metadata": {
        "id": "WznysWc92Ye4"
      },
      "execution_count": null,
      "outputs": []
    },
    {
      "cell_type": "code",
      "source": [
        "#We will choose output as out target variable"
      ],
      "metadata": {
        "id": "ScAwcJkY2k1e"
      },
      "execution_count": null,
      "outputs": []
    },
    {
      "cell_type": "code",
      "source": [
        "dataset.min(axis=0)"
      ],
      "metadata": {
        "id": "1EKyFG8cBnQE",
        "colab": {
          "base_uri": "https://localhost:8080/"
        },
        "outputId": "7f9c4d16-f996-49b2-a453-ab7d5edad246"
      },
      "execution_count": null,
      "outputs": [
        {
          "output_type": "execute_result",
          "data": {
            "text/plain": [
              "age          29.0\n",
              "sex           0.0\n",
              "cp            0.0\n",
              "trtbps       94.0\n",
              "chol        126.0\n",
              "fbs           0.0\n",
              "restecg       0.0\n",
              "thalachh     71.0\n",
              "exng          0.0\n",
              "oldpeak       0.0\n",
              "slp           0.0\n",
              "caa           0.0\n",
              "thall         0.0\n",
              "output        0.0\n",
              "index         0.0\n",
              "dtype: float64"
            ]
          },
          "metadata": {},
          "execution_count": 60
        }
      ]
    },
    {
      "cell_type": "code",
      "source": [
        "dataset.max(axis=0)"
      ],
      "metadata": {
        "id": "nWPA9Vd4CbPo",
        "colab": {
          "base_uri": "https://localhost:8080/"
        },
        "outputId": "76ad9264-8a4c-4bea-d9f0-3ad1fe174085"
      },
      "execution_count": null,
      "outputs": [
        {
          "output_type": "execute_result",
          "data": {
            "text/plain": [
              "age          77.0\n",
              "sex           1.0\n",
              "cp            3.0\n",
              "trtbps      200.0\n",
              "chol        564.0\n",
              "fbs           1.0\n",
              "restecg       2.0\n",
              "thalachh    202.0\n",
              "exng          1.0\n",
              "oldpeak       6.2\n",
              "slp           2.0\n",
              "caa           4.0\n",
              "thall         3.0\n",
              "output        1.0\n",
              "index       302.0\n",
              "dtype: float64"
            ]
          },
          "metadata": {},
          "execution_count": 61
        }
      ]
    },
    {
      "cell_type": "code",
      "source": [
        "fig = px.histogram(dataset, x=\"output\",color=\"output\")\n",
        "fig.update_layout(bargap=0.7)\n",
        "fig.show()\n",
        "#There are 138 instances of class 0\n",
        "#There are 165 instances of class 1"
      ],
      "metadata": {
        "id": "wsJrufnw6SS5",
        "colab": {
          "base_uri": "https://localhost:8080/",
          "height": 542
        },
        "outputId": "ecab1a1a-8d73-4919-ced9-ea048d397e6f"
      },
      "execution_count": null,
      "outputs": [
        {
          "output_type": "display_data",
          "data": {
            "text/html": [
              "<html>\n",
              "<head><meta charset=\"utf-8\" /></head>\n",
              "<body>\n",
              "    <div>            <script src=\"https://cdnjs.cloudflare.com/ajax/libs/mathjax/2.7.5/MathJax.js?config=TeX-AMS-MML_SVG\"></script><script type=\"text/javascript\">if (window.MathJax) {MathJax.Hub.Config({SVG: {font: \"STIX-Web\"}});}</script>                <script type=\"text/javascript\">window.PlotlyConfig = {MathJaxConfig: 'local'};</script>\n",
              "        <script src=\"https://cdn.plot.ly/plotly-2.8.3.min.js\"></script>                <div id=\"9d621da9-48fe-4cdc-adfa-766034251933\" class=\"plotly-graph-div\" style=\"height:525px; width:100%;\"></div>            <script type=\"text/javascript\">                                    window.PLOTLYENV=window.PLOTLYENV || {};                                    if (document.getElementById(\"9d621da9-48fe-4cdc-adfa-766034251933\")) {                    Plotly.newPlot(                        \"9d621da9-48fe-4cdc-adfa-766034251933\",                        [{\"alignmentgroup\":\"True\",\"bingroup\":\"x\",\"hovertemplate\":\"output=%{x}<br>count=%{y}<extra></extra>\",\"legendgroup\":\"1\",\"marker\":{\"color\":\"#636efa\",\"pattern\":{\"shape\":\"\"}},\"name\":\"1\",\"offsetgroup\":\"1\",\"orientation\":\"v\",\"showlegend\":true,\"x\":[1,1,1,1,1,1,1,1,1,1,1,1,1,1,1,1,1,1,1,1,1,1,1,1,1,1,1,1,1,1,1,1,1,1,1,1,1,1,1,1,1,1,1,1,1,1,1,1,1,1,1,1,1,1,1,1,1,1,1,1,1,1,1,1,1,1,1,1,1,1,1,1,1,1,1,1,1,1,1,1,1,1,1,1,1,1,1,1,1,1,1,1,1,1,1,1,1,1,1,1,1,1,1,1,1,1,1,1,1,1,1,1,1,1,1,1,1,1,1,1,1,1,1,1,1,1,1,1,1,1,1,1,1,1,1,1,1,1,1,1,1,1,1,1,1,1,1,1,1,1,1,1,1,1,1,1,1,1,1,1,1,1,1,1,1],\"xaxis\":\"x\",\"yaxis\":\"y\",\"type\":\"histogram\"},{\"alignmentgroup\":\"True\",\"bingroup\":\"x\",\"hovertemplate\":\"output=%{x}<br>count=%{y}<extra></extra>\",\"legendgroup\":\"0\",\"marker\":{\"color\":\"#EF553B\",\"pattern\":{\"shape\":\"\"}},\"name\":\"0\",\"offsetgroup\":\"0\",\"orientation\":\"v\",\"showlegend\":true,\"x\":[0,0,0,0,0,0,0,0,0,0,0,0,0,0,0,0,0,0,0,0,0,0,0,0,0,0,0,0,0,0,0,0,0,0,0,0,0,0,0,0,0,0,0,0,0,0,0,0,0,0,0,0,0,0,0,0,0,0,0,0,0,0,0,0,0,0,0,0,0,0,0,0,0,0,0,0,0,0,0,0,0,0,0,0,0,0,0,0,0,0,0,0,0,0,0,0,0,0,0,0,0,0,0,0,0,0,0,0,0,0,0,0,0,0,0,0,0,0,0,0,0,0,0,0,0,0,0,0,0,0,0,0,0,0,0,0,0,0],\"xaxis\":\"x\",\"yaxis\":\"y\",\"type\":\"histogram\"}],                        {\"template\":{\"data\":{\"bar\":[{\"error_x\":{\"color\":\"#2a3f5f\"},\"error_y\":{\"color\":\"#2a3f5f\"},\"marker\":{\"line\":{\"color\":\"#E5ECF6\",\"width\":0.5},\"pattern\":{\"fillmode\":\"overlay\",\"size\":10,\"solidity\":0.2}},\"type\":\"bar\"}],\"barpolar\":[{\"marker\":{\"line\":{\"color\":\"#E5ECF6\",\"width\":0.5},\"pattern\":{\"fillmode\":\"overlay\",\"size\":10,\"solidity\":0.2}},\"type\":\"barpolar\"}],\"carpet\":[{\"aaxis\":{\"endlinecolor\":\"#2a3f5f\",\"gridcolor\":\"white\",\"linecolor\":\"white\",\"minorgridcolor\":\"white\",\"startlinecolor\":\"#2a3f5f\"},\"baxis\":{\"endlinecolor\":\"#2a3f5f\",\"gridcolor\":\"white\",\"linecolor\":\"white\",\"minorgridcolor\":\"white\",\"startlinecolor\":\"#2a3f5f\"},\"type\":\"carpet\"}],\"choropleth\":[{\"colorbar\":{\"outlinewidth\":0,\"ticks\":\"\"},\"type\":\"choropleth\"}],\"contour\":[{\"colorbar\":{\"outlinewidth\":0,\"ticks\":\"\"},\"colorscale\":[[0.0,\"#0d0887\"],[0.1111111111111111,\"#46039f\"],[0.2222222222222222,\"#7201a8\"],[0.3333333333333333,\"#9c179e\"],[0.4444444444444444,\"#bd3786\"],[0.5555555555555556,\"#d8576b\"],[0.6666666666666666,\"#ed7953\"],[0.7777777777777778,\"#fb9f3a\"],[0.8888888888888888,\"#fdca26\"],[1.0,\"#f0f921\"]],\"type\":\"contour\"}],\"contourcarpet\":[{\"colorbar\":{\"outlinewidth\":0,\"ticks\":\"\"},\"type\":\"contourcarpet\"}],\"heatmap\":[{\"colorbar\":{\"outlinewidth\":0,\"ticks\":\"\"},\"colorscale\":[[0.0,\"#0d0887\"],[0.1111111111111111,\"#46039f\"],[0.2222222222222222,\"#7201a8\"],[0.3333333333333333,\"#9c179e\"],[0.4444444444444444,\"#bd3786\"],[0.5555555555555556,\"#d8576b\"],[0.6666666666666666,\"#ed7953\"],[0.7777777777777778,\"#fb9f3a\"],[0.8888888888888888,\"#fdca26\"],[1.0,\"#f0f921\"]],\"type\":\"heatmap\"}],\"heatmapgl\":[{\"colorbar\":{\"outlinewidth\":0,\"ticks\":\"\"},\"colorscale\":[[0.0,\"#0d0887\"],[0.1111111111111111,\"#46039f\"],[0.2222222222222222,\"#7201a8\"],[0.3333333333333333,\"#9c179e\"],[0.4444444444444444,\"#bd3786\"],[0.5555555555555556,\"#d8576b\"],[0.6666666666666666,\"#ed7953\"],[0.7777777777777778,\"#fb9f3a\"],[0.8888888888888888,\"#fdca26\"],[1.0,\"#f0f921\"]],\"type\":\"heatmapgl\"}],\"histogram\":[{\"marker\":{\"pattern\":{\"fillmode\":\"overlay\",\"size\":10,\"solidity\":0.2}},\"type\":\"histogram\"}],\"histogram2d\":[{\"colorbar\":{\"outlinewidth\":0,\"ticks\":\"\"},\"colorscale\":[[0.0,\"#0d0887\"],[0.1111111111111111,\"#46039f\"],[0.2222222222222222,\"#7201a8\"],[0.3333333333333333,\"#9c179e\"],[0.4444444444444444,\"#bd3786\"],[0.5555555555555556,\"#d8576b\"],[0.6666666666666666,\"#ed7953\"],[0.7777777777777778,\"#fb9f3a\"],[0.8888888888888888,\"#fdca26\"],[1.0,\"#f0f921\"]],\"type\":\"histogram2d\"}],\"histogram2dcontour\":[{\"colorbar\":{\"outlinewidth\":0,\"ticks\":\"\"},\"colorscale\":[[0.0,\"#0d0887\"],[0.1111111111111111,\"#46039f\"],[0.2222222222222222,\"#7201a8\"],[0.3333333333333333,\"#9c179e\"],[0.4444444444444444,\"#bd3786\"],[0.5555555555555556,\"#d8576b\"],[0.6666666666666666,\"#ed7953\"],[0.7777777777777778,\"#fb9f3a\"],[0.8888888888888888,\"#fdca26\"],[1.0,\"#f0f921\"]],\"type\":\"histogram2dcontour\"}],\"mesh3d\":[{\"colorbar\":{\"outlinewidth\":0,\"ticks\":\"\"},\"type\":\"mesh3d\"}],\"parcoords\":[{\"line\":{\"colorbar\":{\"outlinewidth\":0,\"ticks\":\"\"}},\"type\":\"parcoords\"}],\"pie\":[{\"automargin\":true,\"type\":\"pie\"}],\"scatter\":[{\"marker\":{\"colorbar\":{\"outlinewidth\":0,\"ticks\":\"\"}},\"type\":\"scatter\"}],\"scatter3d\":[{\"line\":{\"colorbar\":{\"outlinewidth\":0,\"ticks\":\"\"}},\"marker\":{\"colorbar\":{\"outlinewidth\":0,\"ticks\":\"\"}},\"type\":\"scatter3d\"}],\"scattercarpet\":[{\"marker\":{\"colorbar\":{\"outlinewidth\":0,\"ticks\":\"\"}},\"type\":\"scattercarpet\"}],\"scattergeo\":[{\"marker\":{\"colorbar\":{\"outlinewidth\":0,\"ticks\":\"\"}},\"type\":\"scattergeo\"}],\"scattergl\":[{\"marker\":{\"colorbar\":{\"outlinewidth\":0,\"ticks\":\"\"}},\"type\":\"scattergl\"}],\"scattermapbox\":[{\"marker\":{\"colorbar\":{\"outlinewidth\":0,\"ticks\":\"\"}},\"type\":\"scattermapbox\"}],\"scatterpolar\":[{\"marker\":{\"colorbar\":{\"outlinewidth\":0,\"ticks\":\"\"}},\"type\":\"scatterpolar\"}],\"scatterpolargl\":[{\"marker\":{\"colorbar\":{\"outlinewidth\":0,\"ticks\":\"\"}},\"type\":\"scatterpolargl\"}],\"scatterternary\":[{\"marker\":{\"colorbar\":{\"outlinewidth\":0,\"ticks\":\"\"}},\"type\":\"scatterternary\"}],\"surface\":[{\"colorbar\":{\"outlinewidth\":0,\"ticks\":\"\"},\"colorscale\":[[0.0,\"#0d0887\"],[0.1111111111111111,\"#46039f\"],[0.2222222222222222,\"#7201a8\"],[0.3333333333333333,\"#9c179e\"],[0.4444444444444444,\"#bd3786\"],[0.5555555555555556,\"#d8576b\"],[0.6666666666666666,\"#ed7953\"],[0.7777777777777778,\"#fb9f3a\"],[0.8888888888888888,\"#fdca26\"],[1.0,\"#f0f921\"]],\"type\":\"surface\"}],\"table\":[{\"cells\":{\"fill\":{\"color\":\"#EBF0F8\"},\"line\":{\"color\":\"white\"}},\"header\":{\"fill\":{\"color\":\"#C8D4E3\"},\"line\":{\"color\":\"white\"}},\"type\":\"table\"}]},\"layout\":{\"annotationdefaults\":{\"arrowcolor\":\"#2a3f5f\",\"arrowhead\":0,\"arrowwidth\":1},\"autotypenumbers\":\"strict\",\"coloraxis\":{\"colorbar\":{\"outlinewidth\":0,\"ticks\":\"\"}},\"colorscale\":{\"diverging\":[[0,\"#8e0152\"],[0.1,\"#c51b7d\"],[0.2,\"#de77ae\"],[0.3,\"#f1b6da\"],[0.4,\"#fde0ef\"],[0.5,\"#f7f7f7\"],[0.6,\"#e6f5d0\"],[0.7,\"#b8e186\"],[0.8,\"#7fbc41\"],[0.9,\"#4d9221\"],[1,\"#276419\"]],\"sequential\":[[0.0,\"#0d0887\"],[0.1111111111111111,\"#46039f\"],[0.2222222222222222,\"#7201a8\"],[0.3333333333333333,\"#9c179e\"],[0.4444444444444444,\"#bd3786\"],[0.5555555555555556,\"#d8576b\"],[0.6666666666666666,\"#ed7953\"],[0.7777777777777778,\"#fb9f3a\"],[0.8888888888888888,\"#fdca26\"],[1.0,\"#f0f921\"]],\"sequentialminus\":[[0.0,\"#0d0887\"],[0.1111111111111111,\"#46039f\"],[0.2222222222222222,\"#7201a8\"],[0.3333333333333333,\"#9c179e\"],[0.4444444444444444,\"#bd3786\"],[0.5555555555555556,\"#d8576b\"],[0.6666666666666666,\"#ed7953\"],[0.7777777777777778,\"#fb9f3a\"],[0.8888888888888888,\"#fdca26\"],[1.0,\"#f0f921\"]]},\"colorway\":[\"#636efa\",\"#EF553B\",\"#00cc96\",\"#ab63fa\",\"#FFA15A\",\"#19d3f3\",\"#FF6692\",\"#B6E880\",\"#FF97FF\",\"#FECB52\"],\"font\":{\"color\":\"#2a3f5f\"},\"geo\":{\"bgcolor\":\"white\",\"lakecolor\":\"white\",\"landcolor\":\"#E5ECF6\",\"showlakes\":true,\"showland\":true,\"subunitcolor\":\"white\"},\"hoverlabel\":{\"align\":\"left\"},\"hovermode\":\"closest\",\"mapbox\":{\"style\":\"light\"},\"paper_bgcolor\":\"white\",\"plot_bgcolor\":\"#E5ECF6\",\"polar\":{\"angularaxis\":{\"gridcolor\":\"white\",\"linecolor\":\"white\",\"ticks\":\"\"},\"bgcolor\":\"#E5ECF6\",\"radialaxis\":{\"gridcolor\":\"white\",\"linecolor\":\"white\",\"ticks\":\"\"}},\"scene\":{\"xaxis\":{\"backgroundcolor\":\"#E5ECF6\",\"gridcolor\":\"white\",\"gridwidth\":2,\"linecolor\":\"white\",\"showbackground\":true,\"ticks\":\"\",\"zerolinecolor\":\"white\"},\"yaxis\":{\"backgroundcolor\":\"#E5ECF6\",\"gridcolor\":\"white\",\"gridwidth\":2,\"linecolor\":\"white\",\"showbackground\":true,\"ticks\":\"\",\"zerolinecolor\":\"white\"},\"zaxis\":{\"backgroundcolor\":\"#E5ECF6\",\"gridcolor\":\"white\",\"gridwidth\":2,\"linecolor\":\"white\",\"showbackground\":true,\"ticks\":\"\",\"zerolinecolor\":\"white\"}},\"shapedefaults\":{\"line\":{\"color\":\"#2a3f5f\"}},\"ternary\":{\"aaxis\":{\"gridcolor\":\"white\",\"linecolor\":\"white\",\"ticks\":\"\"},\"baxis\":{\"gridcolor\":\"white\",\"linecolor\":\"white\",\"ticks\":\"\"},\"bgcolor\":\"#E5ECF6\",\"caxis\":{\"gridcolor\":\"white\",\"linecolor\":\"white\",\"ticks\":\"\"}},\"title\":{\"x\":0.05},\"xaxis\":{\"automargin\":true,\"gridcolor\":\"white\",\"linecolor\":\"white\",\"ticks\":\"\",\"title\":{\"standoff\":15},\"zerolinecolor\":\"white\",\"zerolinewidth\":2},\"yaxis\":{\"automargin\":true,\"gridcolor\":\"white\",\"linecolor\":\"white\",\"ticks\":\"\",\"title\":{\"standoff\":15},\"zerolinecolor\":\"white\",\"zerolinewidth\":2}}},\"xaxis\":{\"anchor\":\"y\",\"domain\":[0.0,1.0],\"title\":{\"text\":\"output\"},\"categoryorder\":\"array\",\"categoryarray\":[1,0]},\"yaxis\":{\"anchor\":\"x\",\"domain\":[0.0,1.0],\"title\":{\"text\":\"count\"}},\"legend\":{\"title\":{\"text\":\"output\"},\"tracegroupgap\":0},\"margin\":{\"t\":60},\"barmode\":\"relative\",\"bargap\":0.7},                        {\"responsive\": true}                    ).then(function(){\n",
              "                            \n",
              "var gd = document.getElementById('9d621da9-48fe-4cdc-adfa-766034251933');\n",
              "var x = new MutationObserver(function (mutations, observer) {{\n",
              "        var display = window.getComputedStyle(gd).display;\n",
              "        if (!display || display === 'none') {{\n",
              "            console.log([gd, 'removed!']);\n",
              "            Plotly.purge(gd);\n",
              "            observer.disconnect();\n",
              "        }}\n",
              "}});\n",
              "\n",
              "// Listen for the removal of the full notebook cells\n",
              "var notebookContainer = gd.closest('#notebook-container');\n",
              "if (notebookContainer) {{\n",
              "    x.observe(notebookContainer, {childList: true});\n",
              "}}\n",
              "\n",
              "// Listen for the clearing of the current output cell\n",
              "var outputEl = gd.closest('.output');\n",
              "if (outputEl) {{\n",
              "    x.observe(outputEl, {childList: true});\n",
              "}}\n",
              "\n",
              "                        })                };                            </script>        </div>\n",
              "</body>\n",
              "</html>"
            ]
          },
          "metadata": {}
        }
      ]
    },
    {
      "cell_type": "code",
      "source": [
        "# We can get size of dataset by assigning index value to it.\n",
        "dataset.index.values"
      ],
      "metadata": {
        "id": "l9vzXo8NFSsR",
        "colab": {
          "base_uri": "https://localhost:8080/"
        },
        "outputId": "84167f53-f45e-46ce-d8e8-3eb5ad7ddc5e"
      },
      "execution_count": null,
      "outputs": [
        {
          "output_type": "execute_result",
          "data": {
            "text/plain": [
              "array([  0,   1,   2,   3,   4,   5,   6,   7,   8,   9,  10,  11,  12,\n",
              "        13,  14,  15,  16,  17,  18,  19,  20,  21,  22,  23,  24,  25,\n",
              "        26,  27,  28,  29,  30,  31,  32,  33,  34,  35,  36,  37,  38,\n",
              "        39,  40,  41,  42,  43,  44,  45,  46,  47,  48,  49,  50,  51,\n",
              "        52,  53,  54,  55,  56,  57,  58,  59,  60,  61,  62,  63,  64,\n",
              "        65,  66,  67,  68,  69,  70,  71,  72,  73,  74,  75,  76,  77,\n",
              "        78,  79,  80,  81,  82,  83,  84,  85,  86,  87,  88,  89,  90,\n",
              "        91,  92,  93,  94,  95,  96,  97,  98,  99, 100, 101, 102, 103,\n",
              "       104, 105, 106, 107, 108, 109, 110, 111, 112, 113, 114, 115, 116,\n",
              "       117, 118, 119, 120, 121, 122, 123, 124, 125, 126, 127, 128, 129,\n",
              "       130, 131, 132, 133, 134, 135, 136, 137, 138, 139, 140, 141, 142,\n",
              "       143, 144, 145, 146, 147, 148, 149, 150, 151, 152, 153, 154, 155,\n",
              "       156, 157, 158, 159, 160, 161, 162, 163, 164, 165, 166, 167, 168,\n",
              "       169, 170, 171, 172, 173, 174, 175, 176, 177, 178, 179, 180, 181,\n",
              "       182, 183, 184, 185, 186, 187, 188, 189, 190, 191, 192, 193, 194,\n",
              "       195, 196, 197, 198, 199, 200, 201, 202, 203, 204, 205, 206, 207,\n",
              "       208, 209, 210, 211, 212, 213, 214, 215, 216, 217, 218, 219, 220,\n",
              "       221, 222, 223, 224, 225, 226, 227, 228, 229, 230, 231, 232, 233,\n",
              "       234, 235, 236, 237, 238, 239, 240, 241, 242, 243, 244, 245, 246,\n",
              "       247, 248, 249, 250, 251, 252, 253, 254, 255, 256, 257, 258, 259,\n",
              "       260, 261, 262, 263, 264, 265, 266, 267, 268, 269, 270, 271, 272,\n",
              "       273, 274, 275, 276, 277, 278, 279, 280, 281, 282, 283, 284, 285,\n",
              "       286, 287, 288, 289, 290, 291, 292, 293, 294, 295, 296, 297, 298,\n",
              "       299, 300, 301, 302])"
            ]
          },
          "metadata": {},
          "execution_count": 63
        }
      ]
    },
    {
      "cell_type": "code",
      "source": [
        "from matplotlib.pyplot import plot as plt"
      ],
      "metadata": {
        "id": "t73ZqzWgKO3u"
      },
      "execution_count": null,
      "outputs": []
    },
    {
      "cell_type": "code",
      "source": [
        "dataset.plot.scatter(x='index', y=\"age\")\n",
        "print('List of outliers of age:')\n",
        "print(np.where((dataset['age']<30)))\n",
        "print(np.where((dataset['age']>75)))\n",
        "dataset.plot.scatter(x='index', y=\"cp\")\n",
        "dataset.plot.scatter(x='index', y=\"trtbps\")\n",
        "print('List of outliers of trtbps:')\n",
        "print(np.where((dataset['trtbps']>180)))\n",
        "print(np.where((dataset['trtbps']<100)))\n",
        "dataset.plot.scatter(x='index', y=\"chol\")\n",
        "print('List of outliers of chol:')\n",
        "print(np.where((dataset['chol']>450)))\n",
        "print(np.where((dataset['chol']<130)))\n",
        "dataset.plot.scatter(x='index', y=\"thalachh\")\n",
        "print('List of outliers of thalachh:')\n",
        "#print(np.where((dataset['thalachh']>450)))\n",
        "print(np.where((dataset['thalachh']<80)))\n",
        "dataset.plot.scatter(x='index', y=\"exng\")\n",
        "dataset.plot.scatter(x='index', y=\"oldpeak\")\n",
        "print('List of outliers of oldpeak:')\n",
        "print(np.where((dataset['oldpeak']>4)))\n",
        "dataset.plot.scatter(x='index', y=\"slp\")"
      ],
      "metadata": {
        "id": "lS_XF8QwKdtg",
        "colab": {
          "base_uri": "https://localhost:8080/",
          "height": 1000
        },
        "outputId": "02114df6-391e-4eec-b487-e249e268a963"
      },
      "execution_count": null,
      "outputs": [
        {
          "output_type": "stream",
          "name": "stdout",
          "text": [
            "List of outliers of age:\n",
            "(array([72]),)\n",
            "(array([144, 238]),)\n",
            "List of outliers of trtbps:\n",
            "(array([223, 248]),)\n",
            "(array([ 71, 124]),)\n",
            "List of outliers of chol:\n",
            "(array([85]),)\n",
            "(array([111]),)\n",
            "List of outliers of thalachh:\n",
            "(array([272]),)\n",
            "List of outliers of oldpeak:\n",
            "(array([101, 204, 221, 250, 291]),)\n"
          ]
        },
        {
          "output_type": "execute_result",
          "data": {
            "text/plain": [
              "<matplotlib.axes._subplots.AxesSubplot at 0x7fba14d87850>"
            ]
          },
          "metadata": {},
          "execution_count": 65
        },
        {
          "output_type": "display_data",
          "data": {
            "text/plain": [
              "<Figure size 432x288 with 1 Axes>"
            ],
            "image/png": "[encoded data removed]"
          },
          "metadata": {
            "needs_background": "light"
          }
        },
        {
          "output_type": "display_data",
          "data": {
            "text/plain": [
              "<Figure size 432x288 with 1 Axes>"
            ],
            "image/png": "[encoded data removed]"
          },
          "metadata": {
            "needs_background": "light"
          }
        },
        {
          "output_type": "display_data",
          "data": {
            "text/plain": [
              "<Figure size 432x288 with 1 Axes>"
            ],
            "image/png": "[encoded data removed]"
          },
          "metadata": {
            "needs_background": "light"
          }
        },
        {
          "output_type": "display_data",
          "data": {
            "text/plain": [
              "<Figure size 432x288 with 1 Axes>"
            ],
            "image/png": "[encoded data removed]"
          },
          "metadata": {
            "needs_background": "light"
          }
        },
        {
          "output_type": "display_data",
          "data": {
            "text/plain": [
              "<Figure size 432x288 with 1 Axes>"
            ],
            "image/png": "[encoded data removed]"
          },
          "metadata": {
            "needs_background": "light"
          }
        },
        {
          "output_type": "display_data",
          "data": {
            "text/plain": [
              "<Figure size 432x288 with 1 Axes>"
            ],
            "image/png": "[encoded data removed]"
          },
          "metadata": {
            "needs_background": "light"
          }
        },
        {
          "output_type": "display_data",
          "data": {
            "text/plain": [
              "<Figure size 432x288 with 1 Axes>"
            ],
            "image/png": "[encoded data removed]"
          },
          "metadata": {
            "needs_background": "light"
          }
        },
        {
          "output_type": "display_data",
          "data": {
            "text/plain": [
              "<Figure size 432x288 with 1 Axes>"
            ],
            "image/png": "[encoded data removed]"
          },
          "metadata": {
            "needs_background": "light"
          }
        }
      ]
    },
    {
      "cell_type": "code",
      "source": [
        "fig = px.imshow(dataset.corr(), template=\"plotly_dark\", title=\"Correlation Heatmap\", labels=dict(x=\"Features\", y=\"Features\", color=\"Correlation\"), color_continuous_scale=\"RdBu\")\n",
        "fig.show()"
      ],
      "metadata": {
        "colab": {
          "base_uri": "https://localhost:8080/",
          "height": 542
        },
        "id": "dEs14wCFN5Gq",
        "outputId": "b44b1379-ae71-4b36-cac0-284b6d6bf868"
      },
      "execution_count": null,
      "outputs": [
        {
          "output_type": "display_data",
          "data": {
            "text/html": [
              "<html>\n",
              "<head><meta charset=\"utf-8\" /></head>\n",
              "<body>\n",
              "    <div>            <script src=\"https://cdnjs.cloudflare.com/ajax/libs/mathjax/2.7.5/MathJax.js?config=TeX-AMS-MML_SVG\"></script><script type=\"text/javascript\">if (window.MathJax) {MathJax.Hub.Config({SVG: {font: \"STIX-Web\"}});}</script>                <script type=\"text/javascript\">window.PlotlyConfig = {MathJaxConfig: 'local'};</script>\n",
              "        <script src=\"https://cdn.plot.ly/plotly-2.8.3.min.js\"></script>                <div id=\"5cb6d934-59b7-4b0e-960f-4188dd8bc4bc\" class=\"plotly-graph-div\" style=\"height:525px; width:100%;\"></div>            <script type=\"text/javascript\">                                    window.PLOTLYENV=window.PLOTLYENV || {};                                    if (document.getElementById(\"5cb6d934-59b7-4b0e-960f-4188dd8bc4bc\")) {                    Plotly.newPlot(                        \"5cb6d934-59b7-4b0e-960f-4188dd8bc4bc\",                        [{\"coloraxis\":\"coloraxis\",\"name\":\"0\",\"x\":[\"age\",\"sex\",\"cp\",\"trtbps\",\"chol\",\"fbs\",\"restecg\",\"thalachh\",\"exng\",\"oldpeak\",\"slp\",\"caa\",\"thall\",\"output\",\"index\"],\"y\":[\"age\",\"sex\",\"cp\",\"trtbps\",\"chol\",\"fbs\",\"restecg\",\"thalachh\",\"exng\",\"oldpeak\",\"slp\",\"caa\",\"thall\",\"output\",\"index\"],\"z\":[[1.0,-0.09844660247479375,-0.06865301584014537,0.27935090656128797,0.2136779565595619,0.1213076480933747,-0.11621089815852946,-0.3985219381210681,0.09680082645526811,0.21001256735867396,-0.16881423801209605,0.27632624401913936,0.06800137705465205,-0.22543871587483838,0.18515307827402677],[-0.09844660247479375,1.0,-0.04935287534698945,-0.0567688239696438,-0.19791217414110693,0.04503178919356035,-0.058196267703754766,-0.04401990776957467,0.14166381099150557,0.09609287706773899,-0.030710567303172596,0.11826141332036008,0.21004109563720721,-0.28093657550176676,0.20113203667539672],[-0.06865301584014537,-0.04935287534698945,1.0,0.04760776064464909,-0.07690439103320765,0.09444403499533138,0.0444205925101639,0.29576212458791074,-0.39428026849502185,-0.14923015809708104,0.11971658853470653,-0.18105302605349538,-0.16173557051002235,0.43379826150689443,-0.39916300751277667],[0.27935090656128797,-0.0567688239696438,0.04760776064464909,1.0,0.12317420653239047,0.1775305419344599,-0.11410278639187008,-0.04669772814795376,0.06761611953876327,0.19321647240953582,-0.12147458192644964,0.10138898530055088,0.062209887630861084,-0.14493112849775,0.10850723512460472],[0.2136779565595619,-0.19791217414110693,-0.07690439103320765,0.12317420653239047,1.0,0.013293602251671545,-0.15104007833751223,-0.009939838642698075,0.06702278257394262,0.05395191998699381,-0.004037770369683779,0.07051092522607601,0.09880299250014513,-0.08523910513756904,0.02025823382312816],[0.1213076480933747,0.04503178919356035,0.09444403499533138,0.1775305419344599,0.013293602251671545,1.0,-0.0841890544310268,-0.008567107343486924,0.025665147202126176,0.005747223459644359,-0.05989417829041802,0.1379793270278513,-0.03201933931349756,-0.028045760272712952,0.0007427322639614935],[-0.11621089815852946,-0.058196267703754766,0.0444205925101639,-0.11410278639187008,-0.15104007833751223,-0.0841890544310268,1.0,0.04412344408543699,-0.07073285587236658,-0.05877022631983708,0.0930448209744822,-0.07204243324693001,-0.011981404599806436,0.1372295028737732,-0.021130175331203843],[-0.3985219381210681,-0.04401990776957467,0.29576212458791074,-0.04669772814795376,-0.009939838642698075,-0.008567107343486924,0.04412344408543699,1.0,-0.3788120938514863,-0.34418694796671606,0.38678440981481926,-0.21317692811538935,-0.09643913165982082,0.4217409338106742,-0.4049721698093265],[0.09680082645526811,0.14166381099150557,-0.39428026849502185,0.06761611953876327,0.06702278257394262,0.025665147202126176,-0.07073285587236658,-0.3788120938514863,1.0,0.28822280778276554,-0.25774836853016647,0.11573937807050606,0.20675378773953748,-0.43675708335330315,0.3637878890267725],[0.21001256735867396,0.09609287706773899,-0.14923015809708104,0.19321647240953582,0.05395191998699381,0.005747223459644359,-0.05877022631983708,-0.34418694796671606,0.28822280778276554,1.0,-0.5775368167291409,0.22268232182782355,0.21024412598264872,-0.4306960016873686,0.2981613065762303],[-0.16881423801209605,-0.030710567303172596,0.11971658853470653,-0.12147458192644964,-0.004037770369683779,-0.05989417829041802,0.0930448209744822,0.38678440981481926,-0.25774836853016647,-0.5775368167291409,1.0,-0.0801552102146397,-0.1047637946214955,0.34587707824172464,-0.27648359048650345],[0.27632624401913936,0.11826141332036008,-0.18105302605349538,0.10138898530055088,0.07051092522607601,0.1379793270278513,-0.07204243324693001,-0.21317692811538935,0.11573937807050606,0.22268232182782355,-0.0801552102146397,1.0,0.15183212548208916,-0.39172399235125244,0.38496216993362],[0.06800137705465205,0.21004109563720721,-0.16173557051002235,0.062209887630861084,0.09880299250014513,-0.03201933931349756,-0.011981404599806436,-0.09643913165982082,0.20675378773953748,0.21024412598264872,-0.1047637946214955,0.15183212548208916,1.0,-0.34402926803830997,0.2574032540459316],[-0.22543871587483838,-0.28093657550176676,0.43379826150689443,-0.14493112849775,-0.08523910513756904,-0.028045760272712952,0.1372295028737732,0.4217409338106742,-0.43675708335330315,-0.4306960016873686,0.34587707824172464,-0.39172399235125244,-0.34402926803830997,1.0,-0.8625849557323026],[0.18515307827402677,0.20113203667539672,-0.39916300751277667,0.10850723512460472,0.02025823382312816,0.0007427322639614935,-0.021130175331203843,-0.4049721698093265,0.3637878890267725,0.2981613065762303,-0.27648359048650345,0.38496216993362,0.2574032540459316,-0.8625849557323026,1.0]],\"type\":\"heatmap\",\"xaxis\":\"x\",\"yaxis\":\"y\",\"hovertemplate\":\"Features: %{x}<br>Features: %{y}<br>Correlation: %{z}<extra></extra>\"}],                        {\"template\":{\"data\":{\"barpolar\":[{\"marker\":{\"line\":{\"color\":\"rgb(17,17,17)\",\"width\":0.5},\"pattern\":{\"fillmode\":\"overlay\",\"size\":10,\"solidity\":0.2}},\"type\":\"barpolar\"}],\"bar\":[{\"error_x\":{\"color\":\"#f2f5fa\"},\"error_y\":{\"color\":\"#f2f5fa\"},\"marker\":{\"line\":{\"color\":\"rgb(17,17,17)\",\"width\":0.5},\"pattern\":{\"fillmode\":\"overlay\",\"size\":10,\"solidity\":0.2}},\"type\":\"bar\"}],\"carpet\":[{\"aaxis\":{\"endlinecolor\":\"#A2B1C6\",\"gridcolor\":\"#506784\",\"linecolor\":\"#506784\",\"minorgridcolor\":\"#506784\",\"startlinecolor\":\"#A2B1C6\"},\"baxis\":{\"endlinecolor\":\"#A2B1C6\",\"gridcolor\":\"#506784\",\"linecolor\":\"#506784\",\"minorgridcolor\":\"#506784\",\"startlinecolor\":\"#A2B1C6\"},\"type\":\"carpet\"}],\"choropleth\":[{\"colorbar\":{\"outlinewidth\":0,\"ticks\":\"\"},\"type\":\"choropleth\"}],\"contourcarpet\":[{\"colorbar\":{\"outlinewidth\":0,\"ticks\":\"\"},\"type\":\"contourcarpet\"}],\"contour\":[{\"colorbar\":{\"outlinewidth\":0,\"ticks\":\"\"},\"colorscale\":[[0.0,\"#0d0887\"],[0.1111111111111111,\"#46039f\"],[0.2222222222222222,\"#7201a8\"],[0.3333333333333333,\"#9c179e\"],[0.4444444444444444,\"#bd3786\"],[0.5555555555555556,\"#d8576b\"],[0.6666666666666666,\"#ed7953\"],[0.7777777777777778,\"#fb9f3a\"],[0.8888888888888888,\"#fdca26\"],[1.0,\"#f0f921\"]],\"type\":\"contour\"}],\"heatmapgl\":[{\"colorbar\":{\"outlinewidth\":0,\"ticks\":\"\"},\"colorscale\":[[0.0,\"#0d0887\"],[0.1111111111111111,\"#46039f\"],[0.2222222222222222,\"#7201a8\"],[0.3333333333333333,\"#9c179e\"],[0.4444444444444444,\"#bd3786\"],[0.5555555555555556,\"#d8576b\"],[0.6666666666666666,\"#ed7953\"],[0.7777777777777778,\"#fb9f3a\"],[0.8888888888888888,\"#fdca26\"],[1.0,\"#f0f921\"]],\"type\":\"heatmapgl\"}],\"heatmap\":[{\"colorbar\":{\"outlinewidth\":0,\"ticks\":\"\"},\"colorscale\":[[0.0,\"#0d0887\"],[0.1111111111111111,\"#46039f\"],[0.2222222222222222,\"#7201a8\"],[0.3333333333333333,\"#9c179e\"],[0.4444444444444444,\"#bd3786\"],[0.5555555555555556,\"#d8576b\"],[0.6666666666666666,\"#ed7953\"],[0.7777777777777778,\"#fb9f3a\"],[0.8888888888888888,\"#fdca26\"],[1.0,\"#f0f921\"]],\"type\":\"heatmap\"}],\"histogram2dcontour\":[{\"colorbar\":{\"outlinewidth\":0,\"ticks\":\"\"},\"colorscale\":[[0.0,\"#0d0887\"],[0.1111111111111111,\"#46039f\"],[0.2222222222222222,\"#7201a8\"],[0.3333333333333333,\"#9c179e\"],[0.4444444444444444,\"#bd3786\"],[0.5555555555555556,\"#d8576b\"],[0.6666666666666666,\"#ed7953\"],[0.7777777777777778,\"#fb9f3a\"],[0.8888888888888888,\"#fdca26\"],[1.0,\"#f0f921\"]],\"type\":\"histogram2dcontour\"}],\"histogram2d\":[{\"colorbar\":{\"outlinewidth\":0,\"ticks\":\"\"},\"colorscale\":[[0.0,\"#0d0887\"],[0.1111111111111111,\"#46039f\"],[0.2222222222222222,\"#7201a8\"],[0.3333333333333333,\"#9c179e\"],[0.4444444444444444,\"#bd3786\"],[0.5555555555555556,\"#d8576b\"],[0.6666666666666666,\"#ed7953\"],[0.7777777777777778,\"#fb9f3a\"],[0.8888888888888888,\"#fdca26\"],[1.0,\"#f0f921\"]],\"type\":\"histogram2d\"}],\"histogram\":[{\"marker\":{\"pattern\":{\"fillmode\":\"overlay\",\"size\":10,\"solidity\":0.2}},\"type\":\"histogram\"}],\"mesh3d\":[{\"colorbar\":{\"outlinewidth\":0,\"ticks\":\"\"},\"type\":\"mesh3d\"}],\"parcoords\":[{\"line\":{\"colorbar\":{\"outlinewidth\":0,\"ticks\":\"\"}},\"type\":\"parcoords\"}],\"pie\":[{\"automargin\":true,\"type\":\"pie\"}],\"scatter3d\":[{\"line\":{\"colorbar\":{\"outlinewidth\":0,\"ticks\":\"\"}},\"marker\":{\"colorbar\":{\"outlinewidth\":0,\"ticks\":\"\"}},\"type\":\"scatter3d\"}],\"scattercarpet\":[{\"marker\":{\"colorbar\":{\"outlinewidth\":0,\"ticks\":\"\"}},\"type\":\"scattercarpet\"}],\"scattergeo\":[{\"marker\":{\"colorbar\":{\"outlinewidth\":0,\"ticks\":\"\"}},\"type\":\"scattergeo\"}],\"scattergl\":[{\"marker\":{\"line\":{\"color\":\"#283442\"}},\"type\":\"scattergl\"}],\"scattermapbox\":[{\"marker\":{\"colorbar\":{\"outlinewidth\":0,\"ticks\":\"\"}},\"type\":\"scattermapbox\"}],\"scatterpolargl\":[{\"marker\":{\"colorbar\":{\"outlinewidth\":0,\"ticks\":\"\"}},\"type\":\"scatterpolargl\"}],\"scatterpolar\":[{\"marker\":{\"colorbar\":{\"outlinewidth\":0,\"ticks\":\"\"}},\"type\":\"scatterpolar\"}],\"scatter\":[{\"marker\":{\"line\":{\"color\":\"#283442\"}},\"type\":\"scatter\"}],\"scatterternary\":[{\"marker\":{\"colorbar\":{\"outlinewidth\":0,\"ticks\":\"\"}},\"type\":\"scatterternary\"}],\"surface\":[{\"colorbar\":{\"outlinewidth\":0,\"ticks\":\"\"},\"colorscale\":[[0.0,\"#0d0887\"],[0.1111111111111111,\"#46039f\"],[0.2222222222222222,\"#7201a8\"],[0.3333333333333333,\"#9c179e\"],[0.4444444444444444,\"#bd3786\"],[0.5555555555555556,\"#d8576b\"],[0.6666666666666666,\"#ed7953\"],[0.7777777777777778,\"#fb9f3a\"],[0.8888888888888888,\"#fdca26\"],[1.0,\"#f0f921\"]],\"type\":\"surface\"}],\"table\":[{\"cells\":{\"fill\":{\"color\":\"#506784\"},\"line\":{\"color\":\"rgb(17,17,17)\"}},\"header\":{\"fill\":{\"color\":\"#2a3f5f\"},\"line\":{\"color\":\"rgb(17,17,17)\"}},\"type\":\"table\"}]},\"layout\":{\"annotationdefaults\":{\"arrowcolor\":\"#f2f5fa\",\"arrowhead\":0,\"arrowwidth\":1},\"autotypenumbers\":\"strict\",\"coloraxis\":{\"colorbar\":{\"outlinewidth\":0,\"ticks\":\"\"}},\"colorscale\":{\"diverging\":[[0,\"#8e0152\"],[0.1,\"#c51b7d\"],[0.2,\"#de77ae\"],[0.3,\"#f1b6da\"],[0.4,\"#fde0ef\"],[0.5,\"#f7f7f7\"],[0.6,\"#e6f5d0\"],[0.7,\"#b8e186\"],[0.8,\"#7fbc41\"],[0.9,\"#4d9221\"],[1,\"#276419\"]],\"sequential\":[[0.0,\"#0d0887\"],[0.1111111111111111,\"#46039f\"],[0.2222222222222222,\"#7201a8\"],[0.3333333333333333,\"#9c179e\"],[0.4444444444444444,\"#bd3786\"],[0.5555555555555556,\"#d8576b\"],[0.6666666666666666,\"#ed7953\"],[0.7777777777777778,\"#fb9f3a\"],[0.8888888888888888,\"#fdca26\"],[1.0,\"#f0f921\"]],\"sequentialminus\":[[0.0,\"#0d0887\"],[0.1111111111111111,\"#46039f\"],[0.2222222222222222,\"#7201a8\"],[0.3333333333333333,\"#9c179e\"],[0.4444444444444444,\"#bd3786\"],[0.5555555555555556,\"#d8576b\"],[0.6666666666666666,\"#ed7953\"],[0.7777777777777778,\"#fb9f3a\"],[0.8888888888888888,\"#fdca26\"],[1.0,\"#f0f921\"]]},\"colorway\":[\"#636efa\",\"#EF553B\",\"#00cc96\",\"#ab63fa\",\"#FFA15A\",\"#19d3f3\",\"#FF6692\",\"#B6E880\",\"#FF97FF\",\"#FECB52\"],\"font\":{\"color\":\"#f2f5fa\"},\"geo\":{\"bgcolor\":\"rgb(17,17,17)\",\"lakecolor\":\"rgb(17,17,17)\",\"landcolor\":\"rgb(17,17,17)\",\"showlakes\":true,\"showland\":true,\"subunitcolor\":\"#506784\"},\"hoverlabel\":{\"align\":\"left\"},\"hovermode\":\"closest\",\"mapbox\":{\"style\":\"dark\"},\"paper_bgcolor\":\"rgb(17,17,17)\",\"plot_bgcolor\":\"rgb(17,17,17)\",\"polar\":{\"angularaxis\":{\"gridcolor\":\"#506784\",\"linecolor\":\"#506784\",\"ticks\":\"\"},\"bgcolor\":\"rgb(17,17,17)\",\"radialaxis\":{\"gridcolor\":\"#506784\",\"linecolor\":\"#506784\",\"ticks\":\"\"}},\"scene\":{\"xaxis\":{\"backgroundcolor\":\"rgb(17,17,17)\",\"gridcolor\":\"#506784\",\"gridwidth\":2,\"linecolor\":\"#506784\",\"showbackground\":true,\"ticks\":\"\",\"zerolinecolor\":\"#C8D4E3\"},\"yaxis\":{\"backgroundcolor\":\"rgb(17,17,17)\",\"gridcolor\":\"#506784\",\"gridwidth\":2,\"linecolor\":\"#506784\",\"showbackground\":true,\"ticks\":\"\",\"zerolinecolor\":\"#C8D4E3\"},\"zaxis\":{\"backgroundcolor\":\"rgb(17,17,17)\",\"gridcolor\":\"#506784\",\"gridwidth\":2,\"linecolor\":\"#506784\",\"showbackground\":true,\"ticks\":\"\",\"zerolinecolor\":\"#C8D4E3\"}},\"shapedefaults\":{\"line\":{\"color\":\"#f2f5fa\"}},\"sliderdefaults\":{\"bgcolor\":\"#C8D4E3\",\"bordercolor\":\"rgb(17,17,17)\",\"borderwidth\":1,\"tickwidth\":0},\"ternary\":{\"aaxis\":{\"gridcolor\":\"#506784\",\"linecolor\":\"#506784\",\"ticks\":\"\"},\"baxis\":{\"gridcolor\":\"#506784\",\"linecolor\":\"#506784\",\"ticks\":\"\"},\"bgcolor\":\"rgb(17,17,17)\",\"caxis\":{\"gridcolor\":\"#506784\",\"linecolor\":\"#506784\",\"ticks\":\"\"}},\"title\":{\"x\":0.05},\"updatemenudefaults\":{\"bgcolor\":\"#506784\",\"borderwidth\":0},\"xaxis\":{\"automargin\":true,\"gridcolor\":\"#283442\",\"linecolor\":\"#506784\",\"ticks\":\"\",\"title\":{\"standoff\":15},\"zerolinecolor\":\"#283442\",\"zerolinewidth\":2},\"yaxis\":{\"automargin\":true,\"gridcolor\":\"#283442\",\"linecolor\":\"#506784\",\"ticks\":\"\",\"title\":{\"standoff\":15},\"zerolinecolor\":\"#283442\",\"zerolinewidth\":2}}},\"xaxis\":{\"anchor\":\"y\",\"domain\":[0.0,1.0],\"scaleanchor\":\"y\",\"constrain\":\"domain\",\"title\":{\"text\":\"Features\"}},\"yaxis\":{\"anchor\":\"x\",\"domain\":[0.0,1.0],\"autorange\":\"reversed\",\"constrain\":\"domain\",\"title\":{\"text\":\"Features\"}},\"coloraxis\":{\"colorbar\":{\"title\":{\"text\":\"Correlation\"}},\"colorscale\":[[0.0,\"rgb(103,0,31)\"],[0.1,\"rgb(178,24,43)\"],[0.2,\"rgb(214,96,77)\"],[0.3,\"rgb(244,165,130)\"],[0.4,\"rgb(253,219,199)\"],[0.5,\"rgb(247,247,247)\"],[0.6,\"rgb(209,229,240)\"],[0.7,\"rgb(146,197,222)\"],[0.8,\"rgb(67,147,195)\"],[0.9,\"rgb(33,102,172)\"],[1.0,\"rgb(5,48,97)\"]]},\"title\":{\"text\":\"Correlation Heatmap\"}},                        {\"responsive\": true}                    ).then(function(){\n",
              "                            \n",
              "var gd = document.getElementById('5cb6d934-59b7-4b0e-960f-4188dd8bc4bc');\n",
              "var x = new MutationObserver(function (mutations, observer) {{\n",
              "        var display = window.getComputedStyle(gd).display;\n",
              "        if (!display || display === 'none') {{\n",
              "            console.log([gd, 'removed!']);\n",
              "            Plotly.purge(gd);\n",
              "            observer.disconnect();\n",
              "        }}\n",
              "}});\n",
              "\n",
              "// Listen for the removal of the full notebook cells\n",
              "var notebookContainer = gd.closest('#notebook-container');\n",
              "if (notebookContainer) {{\n",
              "    x.observe(notebookContainer, {childList: true});\n",
              "}}\n",
              "\n",
              "// Listen for the clearing of the current output cell\n",
              "var outputEl = gd.closest('.output');\n",
              "if (outputEl) {{\n",
              "    x.observe(outputEl, {childList: true});\n",
              "}}\n",
              "\n",
              "                        })                };                            </script>        </div>\n",
              "</body>\n",
              "</html>"
            ]
          },
          "metadata": {}
        }
      ]
    },
    {
      "cell_type": "code",
      "source": [
        "from scipy.stats import kendalltau\n",
        "corr_age,_ = kendalltau(dataset.age, dataset.output)\n",
        "corr_sex,_ = kendalltau(dataset.sex, dataset.output)\n",
        "corr_cp,_ = kendalltau(dataset.cp, dataset.output)\n",
        "corr_trtbps,_ = kendalltau(dataset.trtbps, dataset.output)\n",
        "corr_chol,_ = kendalltau(dataset.chol, dataset.output)\n",
        "corr_fbs,_ = kendalltau(dataset.fbs, dataset.output)\n",
        "corr_restecg,_ = kendalltau(dataset.restecg, dataset.output)\n",
        "corr_thalachh,_ = kendalltau(dataset.thalachh, dataset.output)\n",
        "corr_exng,_ = kendalltau(dataset.exng, dataset.output)\n",
        "corr_oldpeak,_ = kendalltau(dataset.oldpeak, dataset.output)\n",
        "corr_slp,_ = kendalltau(dataset.slp, dataset.output)\n",
        "corr_caa,_ = kendalltau(dataset.caa, dataset.output)\n",
        "corr_thall,_ = kendalltau(dataset.thall, dataset.output)\n",
        "print('Kendall Rank correlation age: %.5f' % corr_age)\n",
        "print('Kendall Rank correlation sex: %.5f' % corr_sex)\n",
        "print('Kendall Rank correlation cp: %.5f' % corr_cp)\n",
        "print('Kendall Rank correlation trtbps: %.5f' % corr_trtbps)\n",
        "print('Kendall Rank correlation chol: %.5f' % corr_chol)\n",
        "print('Kendall Rank correlation fbs: %.5f' % corr_fbs)\n",
        "print('Kendall Rank correlation restecg: %.5f' % corr_restecg)\n",
        "print('Kendall Rank correlation thalachh: %.5f' % corr_thalachh)\n",
        "print('Kendall Rank correlation exng: %.5f' % corr_exng)\n",
        "print('Kendall Rank correlation oldpeak: %.5f' % corr_oldpeak)\n",
        "print('Kendall Rank correlation slp: %.5f' % corr_slp)\n",
        "print('Kendall Rank correlation caa: %.5f' % corr_caa)\n",
        "print('Kendall Rank correlation thall: %.5f' % corr_thall)"
      ],
      "metadata": {
        "id": "-Q8CssTiKsWP",
        "colab": {
          "base_uri": "https://localhost:8080/"
        },
        "outputId": "78998522-c035-41cb-ddbd-d2028e241c55"
      },
      "execution_count": null,
      "outputs": [
        {
          "output_type": "stream",
          "name": "stdout",
          "text": [
            "Kendall Rank correlation age: -0.19786\n",
            "Kendall Rank correlation sex: -0.28094\n",
            "Kendall Rank correlation cp: 0.43051\n",
            "Kendall Rank correlation trtbps: -0.10206\n",
            "Kendall Rank correlation chol: -0.09913\n",
            "Kendall Rank correlation fbs: -0.02805\n",
            "Kendall Rank correlation restecg: 0.14768\n",
            "Kendall Rank correlation thalachh: 0.35261\n",
            "Kendall Rank correlation exng: -0.43676\n",
            "Kendall Rank correlation oldpeak: -0.36173\n",
            "Kendall Rank correlation slp: 0.36141\n",
            "Kendall Rank correlation caa: -0.43012\n",
            "Kendall Rank correlation thall: -0.39260\n"
          ]
        }
      ]
    },
    {
      "cell_type": "code",
      "source": [
        "dataset.drop(['index'], axis=1, inplace=True)"
      ],
      "metadata": {
        "id": "WVZYVj_qOqic"
      },
      "execution_count": null,
      "outputs": []
    },
    {
      "cell_type": "code",
      "source": [
        "from sklearn.model_selection import train_test_split\n",
        "#list(dataset.columns)\n",
        "columns = dataset.columns\n",
        "features = ['age', 'sex', 'cp', 'trtbps', 'chol', 'fbs', 'restecg', 'thalachh', 'exng', 'oldpeak', 'slp', 'caa', 'thall']\n",
        "x = dataset.loc[:, features]\n",
        "y = dataset.loc[:, ['output']]\n",
        "X_train, X_test, y_train, y_test = train_test_split(x, y, random_state=0, train_size = .75)"
      ],
      "metadata": {
        "id": "5FklcF2AwHAs"
      },
      "execution_count": null,
      "outputs": []
    },
    {
      "cell_type": "code",
      "source": [
        "from sklearn.preprocessing import StandardScaler\n",
        "from sklearn.preprocessing import MinMaxScaler\n",
        "categorical = ['sex', 'cp', 'fbs', 'restecg', 'exng', 'slp', 'caa', 'thall']\n",
        "encoded_df = pd.get_dummies(dataset, columns=categorical)\n",
        "X = encoded_df.drop(\"output\", axis=1)\n",
        "y = encoded_df['output']"
      ],
      "metadata": {
        "id": "APWgggIujRZc"
      },
      "execution_count": null,
      "outputs": []
    },
    {
      "cell_type": "code",
      "source": [
        "# categorical = ['sex']\n",
        "# encoded_df = pd.get_dummies(dataset, columns=categorical)\n",
        "# print(encoded_df)\n",
        "# dataset"
      ],
      "metadata": {
        "id": "frHU2STrRjUU"
      },
      "execution_count": null,
      "outputs": []
    },
    {
      "cell_type": "code",
      "source": [
        "from sklearn.preprocessing import MinMaxScaler\n",
        "from sklearn.metrics import accuracy_score, confusion_matrix, classification_report\n",
        "X_train, X_test, y_train, y_test = train_test_split(X, y, test_size=0.25)\n",
        "sc = MinMaxScaler()\n",
        "X_train = sc.fit_transform(X_train)\n",
        "X_test = sc.transform(X_test)"
      ],
      "metadata": {
        "id": "Y_Qqu2tqOEI2"
      },
      "execution_count": null,
      "outputs": []
    },
    {
      "cell_type": "markdown",
      "source": [
        "## Training\n"
      ],
      "metadata": {
        "id": "2k-DBiCALdyg"
      }
    },
    {
      "cell_type": "code",
      "source": [
        "import torch\n",
        "from torch import nn, optim\n",
        "from torch.nn import functional as F\n",
        "from sklearn.preprocessing import MinMaxScaler\n",
        "from sklearn.metrics import accuracy_score, confusion_matrix, classification_report"
      ],
      "metadata": {
        "id": "VcnHeYqCLfnW"
      },
      "execution_count": null,
      "outputs": []
    },
    {
      "cell_type": "code",
      "source": [
        "X_train = torch.tensor(X_train).float()\n",
        "X_test = torch.tensor(X_test).float()\n",
        "y_train = torch.tensor(y_train.values).long()\n",
        "y_test = torch.tensor(y_test.values).long()"
      ],
      "metadata": {
        "id": "7lxposItOQ3t"
      },
      "execution_count": null,
      "outputs": []
    },
    {
      "cell_type": "code",
      "source": [
        "X_train[0]"
      ],
      "metadata": {
        "colab": {
          "base_uri": "https://localhost:8080/"
        },
        "id": "EjsEegM7UZAN",
        "outputId": "0c819ab2-93c2-4b6d-b27d-11e1ba85c54a"
      },
      "execution_count": null,
      "outputs": [
        {
          "output_type": "execute_result",
          "data": {
            "text/plain": [
              "tensor([0.1163, 0.4694, 0.4388, 0.8952, 0.0000, 0.0000, 1.0000, 0.0000, 0.0000,\n",
              "        1.0000, 0.0000, 1.0000, 0.0000, 1.0000, 0.0000, 0.0000, 1.0000, 0.0000,\n",
              "        0.0000, 0.0000, 1.0000, 1.0000, 0.0000, 0.0000, 0.0000, 0.0000, 0.0000,\n",
              "        0.0000, 1.0000, 0.0000])"
            ]
          },
          "metadata": {},
          "execution_count": 75
        }
      ]
    },
    {
      "cell_type": "code",
      "source": [
        "class HeartAttack(nn.Module):\n",
        "    def __init__(self):\n",
        "        super(HeartAttack, self).__init__()\n",
        "        self.fc1 = nn.Linear(30, 64)\n",
        "        self.fc2 = nn.Linear(64, 128)\n",
        "        self.fc3 = nn.Linear(128, 256)\n",
        "        self.fc4 = nn.Linear(256, 2)\n",
        "        self.act = nn.LeakyReLU()\n",
        "        self.dropout = nn.Dropout(0.1)\n",
        "    def forward(self, x):\n",
        "        x = self.act(self.fc1(x))\n",
        "        x = self.act(self.fc2(x))\n",
        "        x = self.act(self.fc3(x))\n",
        "        x = self.dropout(x)\n",
        "        return self.fc4(x)"
      ],
      "metadata": {
        "id": "A48dTx2rLvWp"
      },
      "execution_count": null,
      "outputs": []
    },
    {
      "cell_type": "code",
      "source": [
        "net = HeartAttack()"
      ],
      "metadata": {
        "id": "B-Pr0PPHLzKw"
      },
      "execution_count": null,
      "outputs": []
    },
    {
      "cell_type": "code",
      "source": [
        "!pip install torchinfo\n",
        "from torchinfo import summary\n",
        "\n",
        "model = net\n",
        "batch_size = 10\n",
        "summary(model, input_size=(batch_size, 1, 30))"
      ],
      "metadata": {
        "colab": {
          "base_uri": "https://localhost:8080/"
        },
        "id": "rthRoiIbTb8_",
        "outputId": "bb54b80c-5a8a-42a8-bb77-a0a15cee3343"
      },
      "execution_count": null,
      "outputs": [
        {
          "output_type": "stream",
          "name": "stdout",
          "text": [
            "Looking in indexes: https://pypi.org/simple, https://us-python.pkg.dev/colab-wheels/public/simple/\n",
            "Requirement already satisfied: torchinfo in /usr/local/lib/python3.8/dist-packages (1.7.1)\n"
          ]
        },
        {
          "output_type": "execute_result",
          "data": {
            "text/plain": [
              "==========================================================================================\n",
              "Layer (type:depth-idx)                   Output Shape              Param #\n",
              "==========================================================================================\n",
              "HeartAttack                              [10, 1, 2]                --\n",
              "├─Linear: 1-1                            [10, 1, 64]               1,984\n",
              "├─LeakyReLU: 1-2                         [10, 1, 64]               --\n",
              "├─Linear: 1-3                            [10, 1, 128]              8,320\n",
              "├─LeakyReLU: 1-4                         [10, 1, 128]              --\n",
              "├─Linear: 1-5                            [10, 1, 256]              33,024\n",
              "├─LeakyReLU: 1-6                         [10, 1, 256]              --\n",
              "├─Dropout: 1-7                           [10, 1, 256]              --\n",
              "├─Linear: 1-8                            [10, 1, 2]                514\n",
              "==========================================================================================\n",
              "Total params: 43,842\n",
              "Trainable params: 43,842\n",
              "Non-trainable params: 0\n",
              "Total mult-adds (M): 0.44\n",
              "==========================================================================================\n",
              "Input size (MB): 0.00\n",
              "Forward/backward pass size (MB): 0.04\n",
              "Params size (MB): 0.18\n",
              "Estimated Total Size (MB): 0.21\n",
              "=========================================================================================="
            ]
          },
          "metadata": {},
          "execution_count": 78
        }
      ]
    },
    {
      "cell_type": "code",
      "source": [
        "optimizer = optim.AdamW(net.parameters())\n",
        "criterion = nn.CrossEntropyLoss()"
      ],
      "metadata": {
        "id": "8dYjaXSuL093"
      },
      "execution_count": null,
      "outputs": []
    },
    {
      "cell_type": "code",
      "source": [
        "losses = []"
      ],
      "metadata": {
        "id": "Ei15kFyaL2jw"
      },
      "execution_count": null,
      "outputs": []
    },
    {
      "cell_type": "code",
      "source": [
        "#y_train.values"
      ],
      "metadata": {
        "id": "gw9V79FEQqlX"
      },
      "execution_count": null,
      "outputs": []
    },
    {
      "cell_type": "code",
      "source": [
        "X_train = torch.tensor(X_train).float()\n",
        "X_test = torch.tensor(X_test).float()\n",
        "# y_train = torch.tensor(int(y_train.values)).long()\n",
        "# y_test = torch.tensor(y_test.values).long()"
      ],
      "metadata": {
        "colab": {
          "base_uri": "https://localhost:8080/"
        },
        "id": "KJdhvqZTM38R",
        "outputId": "2b9286cc-e925-41dc-f973-cf7d4d6a3680"
      },
      "execution_count": null,
      "outputs": [
        {
          "output_type": "stream",
          "name": "stderr",
          "text": [
            "<ipython-input-82-d8a1350b3b28>:1: UserWarning:\n",
            "\n",
            "To copy construct from a tensor, it is recommended to use sourceTensor.clone().detach() or sourceTensor.clone().detach().requires_grad_(True), rather than torch.tensor(sourceTensor).\n",
            "\n",
            "<ipython-input-82-d8a1350b3b28>:2: UserWarning:\n",
            "\n",
            "To copy construct from a tensor, it is recommended to use sourceTensor.clone().detach() or sourceTensor.clone().detach().requires_grad_(True), rather than torch.tensor(sourceTensor).\n",
            "\n"
          ]
        }
      ]
    },
    {
      "cell_type": "code",
      "source": [
        "max_test = 0\n",
        "best_params = net.state_dict()\n",
        "for epoch in range(1, 500):\n",
        "    optimizer.zero_grad()\n",
        "    outputs = net(X_train)\n",
        "    loss = criterion(outputs, y_train)\n",
        "    loss.backward()\n",
        "    optimizer.step()\n",
        "    losses.append(loss.item())\n",
        "    _, preds_y = torch.max(outputs, 1)\n",
        "    train_acc = accuracy_score(y_train, preds_y)\n",
        "    \n",
        "    pred_test = net(X_test)\n",
        "    _, preds_test_y = torch.max(pred_test, 1)\n",
        "    test_acc = accuracy_score(y_test, preds_test_y)\n",
        "    print(\"Epoch {}, Loss: {}, Acc:{:.2f}%, Test Acc: {:.2f}%\".format(epoch, loss.item(), \n",
        "                                                                      train_acc*100, test_acc * 100))\n",
        "    if test_acc > max_test:\n",
        "        max_test = test_acc\n",
        "        best_params = net.state_dict()\n",
        "net.load_state_dict(best_params)"
      ],
      "metadata": {
        "colab": {
          "base_uri": "https://localhost:8080/"
        },
        "id": "nCaXDECcL4JQ",
        "outputId": "a65d3ca7-577f-4586-ab0e-7555a445fa35"
      },
      "execution_count": null,
      "outputs": [
        {
          "output_type": "stream",
          "name": "stdout",
          "text": [
            "Epoch 1, Loss: 0.6975423693656921, Acc:45.37%, Test Acc: 52.63%\n",
            "Epoch 2, Loss: 0.6880775690078735, Acc:52.86%, Test Acc: 84.21%\n",
            "Epoch 3, Loss: 0.6775174140930176, Acc:79.74%, Test Acc: 86.84%\n",
            "Epoch 4, Loss: 0.6686205267906189, Acc:79.30%, Test Acc: 78.95%\n",
            "Epoch 5, Loss: 0.6568938493728638, Acc:81.50%, Test Acc: 80.26%\n",
            "Epoch 6, Loss: 0.6457859873771667, Acc:78.41%, Test Acc: 82.89%\n",
            "Epoch 7, Loss: 0.6306899189949036, Acc:81.50%, Test Acc: 82.89%\n",
            "Epoch 8, Loss: 0.6163474321365356, Acc:80.62%, Test Acc: 84.21%\n",
            "Epoch 9, Loss: 0.5991433262825012, Acc:81.50%, Test Acc: 85.53%\n",
            "Epoch 10, Loss: 0.579630434513092, Acc:83.26%, Test Acc: 86.84%\n",
            "Epoch 11, Loss: 0.5583710670471191, Acc:82.38%, Test Acc: 86.84%\n",
            "Epoch 12, Loss: 0.5369905829429626, Acc:83.26%, Test Acc: 88.16%\n",
            "Epoch 13, Loss: 0.5128206014633179, Acc:82.38%, Test Acc: 89.47%\n",
            "Epoch 14, Loss: 0.4884161353111267, Acc:84.58%, Test Acc: 88.16%\n",
            "Epoch 15, Loss: 0.4615415930747986, Acc:84.14%, Test Acc: 89.47%\n",
            "Epoch 16, Loss: 0.4389130175113678, Acc:84.14%, Test Acc: 89.47%\n",
            "Epoch 17, Loss: 0.41756471991539, Acc:83.70%, Test Acc: 92.11%\n",
            "Epoch 18, Loss: 0.39622780680656433, Acc:83.26%, Test Acc: 92.11%\n",
            "Epoch 19, Loss: 0.3809475600719452, Acc:84.14%, Test Acc: 90.79%\n",
            "Epoch 20, Loss: 0.3719491958618164, Acc:83.70%, Test Acc: 92.11%\n",
            "Epoch 21, Loss: 0.36261186003685, Acc:83.26%, Test Acc: 92.11%\n",
            "Epoch 22, Loss: 0.363124817609787, Acc:83.70%, Test Acc: 90.79%\n",
            "Epoch 23, Loss: 0.35621052980422974, Acc:84.58%, Test Acc: 89.47%\n",
            "Epoch 24, Loss: 0.3599845767021179, Acc:84.14%, Test Acc: 90.79%\n",
            "Epoch 25, Loss: 0.3568851351737976, Acc:84.58%, Test Acc: 88.16%\n",
            "Epoch 26, Loss: 0.3543470799922943, Acc:84.58%, Test Acc: 86.84%\n",
            "Epoch 27, Loss: 0.3475976586341858, Acc:85.02%, Test Acc: 88.16%\n",
            "Epoch 28, Loss: 0.3427979648113251, Acc:84.14%, Test Acc: 88.16%\n",
            "Epoch 29, Loss: 0.33424124121665955, Acc:84.58%, Test Acc: 89.47%\n",
            "Epoch 30, Loss: 0.32942259311676025, Acc:85.46%, Test Acc: 89.47%\n",
            "Epoch 31, Loss: 0.32018837332725525, Acc:84.58%, Test Acc: 90.79%\n",
            "Epoch 32, Loss: 0.31812214851379395, Acc:85.02%, Test Acc: 89.47%\n",
            "Epoch 33, Loss: 0.3090267479419708, Acc:86.34%, Test Acc: 90.79%\n",
            "Epoch 34, Loss: 0.3045918941497803, Acc:85.90%, Test Acc: 90.79%\n",
            "Epoch 35, Loss: 0.3005749583244324, Acc:87.22%, Test Acc: 90.79%\n",
            "Epoch 36, Loss: 0.29464247822761536, Acc:87.67%, Test Acc: 90.79%\n",
            "Epoch 37, Loss: 0.2942304313182831, Acc:88.11%, Test Acc: 92.11%\n",
            "Epoch 38, Loss: 0.29384148120880127, Acc:87.67%, Test Acc: 90.79%\n",
            "Epoch 39, Loss: 0.286466121673584, Acc:87.67%, Test Acc: 90.79%\n",
            "Epoch 40, Loss: 0.2855835258960724, Acc:88.11%, Test Acc: 90.79%\n",
            "Epoch 41, Loss: 0.2751428186893463, Acc:88.55%, Test Acc: 90.79%\n",
            "Epoch 42, Loss: 0.27678385376930237, Acc:88.55%, Test Acc: 90.79%\n",
            "Epoch 43, Loss: 0.2677421569824219, Acc:88.99%, Test Acc: 90.79%\n",
            "Epoch 44, Loss: 0.265184223651886, Acc:88.55%, Test Acc: 92.11%\n",
            "Epoch 45, Loss: 0.25891900062561035, Acc:88.99%, Test Acc: 90.79%\n",
            "Epoch 46, Loss: 0.2559144198894501, Acc:90.31%, Test Acc: 92.11%\n",
            "Epoch 47, Loss: 0.25239354372024536, Acc:89.43%, Test Acc: 92.11%\n",
            "Epoch 48, Loss: 0.2467251718044281, Acc:90.31%, Test Acc: 92.11%\n",
            "Epoch 49, Loss: 0.23986351490020752, Acc:89.87%, Test Acc: 92.11%\n",
            "Epoch 50, Loss: 0.24056653678417206, Acc:90.31%, Test Acc: 92.11%\n",
            "Epoch 51, Loss: 0.23112373054027557, Acc:91.19%, Test Acc: 92.11%\n",
            "Epoch 52, Loss: 0.22756707668304443, Acc:91.19%, Test Acc: 92.11%\n",
            "Epoch 53, Loss: 0.22151026129722595, Acc:91.63%, Test Acc: 92.11%\n",
            "Epoch 54, Loss: 0.21765244007110596, Acc:91.63%, Test Acc: 92.11%\n",
            "Epoch 55, Loss: 0.21355409920215607, Acc:92.95%, Test Acc: 90.79%\n",
            "Epoch 56, Loss: 0.20942896604537964, Acc:92.95%, Test Acc: 90.79%\n",
            "Epoch 57, Loss: 0.20205941796302795, Acc:92.95%, Test Acc: 90.79%\n",
            "Epoch 58, Loss: 0.19784213602542877, Acc:92.95%, Test Acc: 90.79%\n",
            "Epoch 59, Loss: 0.19437628984451294, Acc:93.39%, Test Acc: 90.79%\n",
            "Epoch 60, Loss: 0.18545977771282196, Acc:93.83%, Test Acc: 90.79%\n",
            "Epoch 61, Loss: 0.1825418323278427, Acc:94.27%, Test Acc: 90.79%\n",
            "Epoch 62, Loss: 0.17723965644836426, Acc:93.83%, Test Acc: 90.79%\n",
            "Epoch 63, Loss: 0.1700192093849182, Acc:94.71%, Test Acc: 90.79%\n",
            "Epoch 64, Loss: 0.16483426094055176, Acc:94.71%, Test Acc: 90.79%\n",
            "Epoch 65, Loss: 0.16295036673545837, Acc:94.71%, Test Acc: 90.79%\n",
            "Epoch 66, Loss: 0.15665501356124878, Acc:95.59%, Test Acc: 90.79%\n",
            "Epoch 67, Loss: 0.15189601480960846, Acc:95.59%, Test Acc: 90.79%\n",
            "Epoch 68, Loss: 0.1490974724292755, Acc:95.59%, Test Acc: 90.79%\n",
            "Epoch 69, Loss: 0.14351072907447815, Acc:95.15%, Test Acc: 90.79%\n",
            "Epoch 70, Loss: 0.13193118572235107, Acc:95.59%, Test Acc: 90.79%\n",
            "Epoch 71, Loss: 0.1327616423368454, Acc:95.59%, Test Acc: 90.79%\n",
            "Epoch 72, Loss: 0.1268385797739029, Acc:96.04%, Test Acc: 90.79%\n",
            "Epoch 73, Loss: 0.12232779711484909, Acc:96.04%, Test Acc: 90.79%\n",
            "Epoch 74, Loss: 0.12008825689554214, Acc:96.04%, Test Acc: 90.79%\n",
            "Epoch 75, Loss: 0.1109335869550705, Acc:96.92%, Test Acc: 90.79%\n",
            "Epoch 76, Loss: 0.10702525824308395, Acc:96.04%, Test Acc: 89.47%\n",
            "Epoch 77, Loss: 0.10814965516328812, Acc:96.92%, Test Acc: 89.47%\n",
            "Epoch 78, Loss: 0.09937091916799545, Acc:96.04%, Test Acc: 90.79%\n",
            "Epoch 79, Loss: 0.09434542804956436, Acc:97.80%, Test Acc: 89.47%\n",
            "Epoch 80, Loss: 0.09059446305036545, Acc:97.36%, Test Acc: 89.47%\n",
            "Epoch 81, Loss: 0.09053678065538406, Acc:98.24%, Test Acc: 90.79%\n",
            "Epoch 82, Loss: 0.08532539010047913, Acc:97.80%, Test Acc: 92.11%\n",
            "Epoch 83, Loss: 0.07993855327367783, Acc:97.80%, Test Acc: 89.47%\n",
            "Epoch 84, Loss: 0.07849399745464325, Acc:98.24%, Test Acc: 90.79%\n",
            "Epoch 85, Loss: 0.07482515275478363, Acc:98.24%, Test Acc: 90.79%\n",
            "Epoch 86, Loss: 0.06845840811729431, Acc:98.68%, Test Acc: 90.79%\n",
            "Epoch 87, Loss: 0.06511141359806061, Acc:98.68%, Test Acc: 90.79%\n",
            "Epoch 88, Loss: 0.06502054631710052, Acc:98.24%, Test Acc: 92.11%\n",
            "Epoch 89, Loss: 0.06612230837345123, Acc:98.68%, Test Acc: 90.79%\n",
            "Epoch 90, Loss: 0.05907842516899109, Acc:99.12%, Test Acc: 92.11%\n",
            "Epoch 91, Loss: 0.05717605724930763, Acc:99.12%, Test Acc: 93.42%\n",
            "Epoch 92, Loss: 0.05351566895842552, Acc:99.12%, Test Acc: 92.11%\n",
            "Epoch 93, Loss: 0.0494135282933712, Acc:99.12%, Test Acc: 90.79%\n",
            "Epoch 94, Loss: 0.05158416926860809, Acc:98.68%, Test Acc: 90.79%\n",
            "Epoch 95, Loss: 0.04964795708656311, Acc:99.12%, Test Acc: 93.42%\n",
            "Epoch 96, Loss: 0.049658481031656265, Acc:99.12%, Test Acc: 89.47%\n",
            "Epoch 97, Loss: 0.04289278760552406, Acc:99.12%, Test Acc: 90.79%\n",
            "Epoch 98, Loss: 0.04257817566394806, Acc:99.12%, Test Acc: 90.79%\n",
            "Epoch 99, Loss: 0.04073694720864296, Acc:99.56%, Test Acc: 90.79%\n",
            "Epoch 100, Loss: 0.03814447298645973, Acc:99.12%, Test Acc: 89.47%\n",
            "Epoch 101, Loss: 0.037635739892721176, Acc:99.56%, Test Acc: 89.47%\n",
            "Epoch 102, Loss: 0.035117391496896744, Acc:99.56%, Test Acc: 89.47%\n",
            "Epoch 103, Loss: 0.03479629382491112, Acc:99.56%, Test Acc: 89.47%\n",
            "Epoch 104, Loss: 0.03609694167971611, Acc:99.56%, Test Acc: 89.47%\n",
            "Epoch 105, Loss: 0.03011280484497547, Acc:99.56%, Test Acc: 89.47%\n",
            "Epoch 106, Loss: 0.03050522692501545, Acc:99.56%, Test Acc: 90.79%\n",
            "Epoch 107, Loss: 0.033219680190086365, Acc:99.56%, Test Acc: 88.16%\n",
            "Epoch 108, Loss: 0.030324578285217285, Acc:99.56%, Test Acc: 89.47%\n",
            "Epoch 109, Loss: 0.02883046492934227, Acc:99.56%, Test Acc: 88.16%\n",
            "Epoch 110, Loss: 0.02741026133298874, Acc:99.56%, Test Acc: 88.16%\n",
            "Epoch 111, Loss: 0.02915574423968792, Acc:99.56%, Test Acc: 88.16%\n",
            "Epoch 112, Loss: 0.028984876349568367, Acc:99.56%, Test Acc: 88.16%\n",
            "Epoch 113, Loss: 0.027164900675415993, Acc:99.56%, Test Acc: 90.79%\n",
            "Epoch 114, Loss: 0.02633359469473362, Acc:99.56%, Test Acc: 88.16%\n",
            "Epoch 115, Loss: 0.02567603811621666, Acc:99.56%, Test Acc: 88.16%\n",
            "Epoch 116, Loss: 0.02479878067970276, Acc:99.56%, Test Acc: 89.47%\n",
            "Epoch 117, Loss: 0.02203940786421299, Acc:99.56%, Test Acc: 89.47%\n",
            "Epoch 118, Loss: 0.023318244144320488, Acc:99.56%, Test Acc: 88.16%\n",
            "Epoch 119, Loss: 0.023810269311070442, Acc:99.56%, Test Acc: 88.16%\n",
            "Epoch 120, Loss: 0.02015526406466961, Acc:100.00%, Test Acc: 90.79%\n",
            "Epoch 121, Loss: 0.021971894428133965, Acc:99.56%, Test Acc: 88.16%\n",
            "Epoch 122, Loss: 0.022894591093063354, Acc:99.56%, Test Acc: 88.16%\n",
            "Epoch 123, Loss: 0.020510125905275345, Acc:100.00%, Test Acc: 88.16%\n",
            "Epoch 124, Loss: 0.01967661641538143, Acc:99.56%, Test Acc: 89.47%\n",
            "Epoch 125, Loss: 0.020208479836583138, Acc:99.56%, Test Acc: 88.16%\n",
            "Epoch 126, Loss: 0.01825626939535141, Acc:99.56%, Test Acc: 89.47%\n",
            "Epoch 127, Loss: 0.01918169856071472, Acc:99.56%, Test Acc: 89.47%\n",
            "Epoch 128, Loss: 0.020710306242108345, Acc:99.56%, Test Acc: 89.47%\n",
            "Epoch 129, Loss: 0.01816616952419281, Acc:99.56%, Test Acc: 89.47%\n",
            "Epoch 130, Loss: 0.01879321038722992, Acc:99.56%, Test Acc: 89.47%\n",
            "Epoch 131, Loss: 0.018453354015946388, Acc:99.56%, Test Acc: 90.79%\n",
            "Epoch 132, Loss: 0.017286431044340134, Acc:99.56%, Test Acc: 89.47%\n",
            "Epoch 133, Loss: 0.01527508907020092, Acc:100.00%, Test Acc: 89.47%\n",
            "Epoch 134, Loss: 0.016365332528948784, Acc:99.56%, Test Acc: 89.47%\n",
            "Epoch 135, Loss: 0.014041315764188766, Acc:99.56%, Test Acc: 89.47%\n",
            "Epoch 136, Loss: 0.01399973500519991, Acc:99.56%, Test Acc: 88.16%\n",
            "Epoch 137, Loss: 0.015033428557217121, Acc:100.00%, Test Acc: 89.47%\n",
            "Epoch 138, Loss: 0.015359091572463512, Acc:100.00%, Test Acc: 89.47%\n",
            "Epoch 139, Loss: 0.01567092351615429, Acc:99.56%, Test Acc: 89.47%\n",
            "Epoch 140, Loss: 0.013206101022660732, Acc:99.56%, Test Acc: 89.47%\n",
            "Epoch 141, Loss: 0.012767026200890541, Acc:100.00%, Test Acc: 89.47%\n",
            "Epoch 142, Loss: 0.01386225875467062, Acc:99.56%, Test Acc: 89.47%\n",
            "Epoch 143, Loss: 0.013128532096743584, Acc:99.56%, Test Acc: 89.47%\n",
            "Epoch 144, Loss: 0.012876063585281372, Acc:99.56%, Test Acc: 89.47%\n",
            "Epoch 145, Loss: 0.012494770810008049, Acc:100.00%, Test Acc: 89.47%\n",
            "Epoch 146, Loss: 0.014028885401785374, Acc:99.56%, Test Acc: 90.79%\n",
            "Epoch 147, Loss: 0.013797931373119354, Acc:99.56%, Test Acc: 89.47%\n",
            "Epoch 148, Loss: 0.013473642989993095, Acc:100.00%, Test Acc: 89.47%\n",
            "Epoch 149, Loss: 0.014505552127957344, Acc:100.00%, Test Acc: 90.79%\n",
            "Epoch 150, Loss: 0.01420670561492443, Acc:99.56%, Test Acc: 89.47%\n",
            "Epoch 151, Loss: 0.01155856903642416, Acc:100.00%, Test Acc: 89.47%\n",
            "Epoch 152, Loss: 0.012957260943949223, Acc:100.00%, Test Acc: 89.47%\n",
            "Epoch 153, Loss: 0.01126379519701004, Acc:99.56%, Test Acc: 89.47%\n",
            "Epoch 154, Loss: 0.012723184190690517, Acc:99.56%, Test Acc: 89.47%\n",
            "Epoch 155, Loss: 0.012311875820159912, Acc:100.00%, Test Acc: 89.47%\n",
            "Epoch 156, Loss: 0.011729995720088482, Acc:100.00%, Test Acc: 89.47%\n",
            "Epoch 157, Loss: 0.01105156447738409, Acc:100.00%, Test Acc: 89.47%\n",
            "Epoch 158, Loss: 0.010760657489299774, Acc:100.00%, Test Acc: 89.47%\n",
            "Epoch 159, Loss: 0.009549526497721672, Acc:100.00%, Test Acc: 89.47%\n",
            "Epoch 160, Loss: 0.009129032492637634, Acc:100.00%, Test Acc: 89.47%\n",
            "Epoch 161, Loss: 0.009175293147563934, Acc:100.00%, Test Acc: 89.47%\n",
            "Epoch 162, Loss: 0.010265087708830833, Acc:100.00%, Test Acc: 89.47%\n",
            "Epoch 163, Loss: 0.010270670056343079, Acc:99.56%, Test Acc: 89.47%\n",
            "Epoch 164, Loss: 0.0104649867862463, Acc:100.00%, Test Acc: 89.47%\n",
            "Epoch 165, Loss: 0.009838911704719067, Acc:99.56%, Test Acc: 89.47%\n",
            "Epoch 166, Loss: 0.009692885912954807, Acc:100.00%, Test Acc: 89.47%\n",
            "Epoch 167, Loss: 0.009042835794389248, Acc:100.00%, Test Acc: 89.47%\n",
            "Epoch 168, Loss: 0.009097863920032978, Acc:100.00%, Test Acc: 89.47%\n",
            "Epoch 169, Loss: 0.007988376542925835, Acc:100.00%, Test Acc: 89.47%\n",
            "Epoch 170, Loss: 0.007557093631476164, Acc:100.00%, Test Acc: 89.47%\n",
            "Epoch 171, Loss: 0.008627570234239101, Acc:100.00%, Test Acc: 89.47%\n",
            "Epoch 172, Loss: 0.007944431155920029, Acc:100.00%, Test Acc: 89.47%\n",
            "Epoch 173, Loss: 0.007581738755106926, Acc:100.00%, Test Acc: 89.47%\n",
            "Epoch 174, Loss: 0.008327349089086056, Acc:100.00%, Test Acc: 89.47%\n",
            "Epoch 175, Loss: 0.008379933424293995, Acc:100.00%, Test Acc: 89.47%\n",
            "Epoch 176, Loss: 0.0076881349086761475, Acc:100.00%, Test Acc: 89.47%\n",
            "Epoch 177, Loss: 0.007200911641120911, Acc:100.00%, Test Acc: 89.47%\n",
            "Epoch 178, Loss: 0.00726471608504653, Acc:100.00%, Test Acc: 89.47%\n",
            "Epoch 179, Loss: 0.007601907942444086, Acc:100.00%, Test Acc: 89.47%\n",
            "Epoch 180, Loss: 0.007417865563184023, Acc:100.00%, Test Acc: 89.47%\n",
            "Epoch 181, Loss: 0.007686888799071312, Acc:100.00%, Test Acc: 89.47%\n",
            "Epoch 182, Loss: 0.006594457663595676, Acc:100.00%, Test Acc: 89.47%\n",
            "Epoch 183, Loss: 0.00750172883272171, Acc:100.00%, Test Acc: 89.47%\n",
            "Epoch 184, Loss: 0.00819201860576868, Acc:100.00%, Test Acc: 89.47%\n",
            "Epoch 185, Loss: 0.007460247725248337, Acc:100.00%, Test Acc: 89.47%\n",
            "Epoch 186, Loss: 0.007040838710963726, Acc:100.00%, Test Acc: 89.47%\n",
            "Epoch 187, Loss: 0.0062682367861270905, Acc:100.00%, Test Acc: 89.47%\n",
            "Epoch 188, Loss: 0.006668607238680124, Acc:100.00%, Test Acc: 89.47%\n",
            "Epoch 189, Loss: 0.007179428357630968, Acc:100.00%, Test Acc: 89.47%\n",
            "Epoch 190, Loss: 0.006341117434203625, Acc:100.00%, Test Acc: 89.47%\n",
            "Epoch 191, Loss: 0.006817304063588381, Acc:100.00%, Test Acc: 89.47%\n",
            "Epoch 192, Loss: 0.005809902213513851, Acc:100.00%, Test Acc: 90.79%\n",
            "Epoch 193, Loss: 0.007055472116917372, Acc:100.00%, Test Acc: 89.47%\n",
            "Epoch 194, Loss: 0.005685785785317421, Acc:100.00%, Test Acc: 88.16%\n",
            "Epoch 195, Loss: 0.007687149103730917, Acc:100.00%, Test Acc: 89.47%\n",
            "Epoch 196, Loss: 0.005767299793660641, Acc:100.00%, Test Acc: 89.47%\n",
            "Epoch 197, Loss: 0.008142560720443726, Acc:100.00%, Test Acc: 89.47%\n",
            "Epoch 198, Loss: 0.0059637525118887424, Acc:100.00%, Test Acc: 90.79%\n",
            "Epoch 199, Loss: 0.0071682194247841835, Acc:100.00%, Test Acc: 89.47%\n",
            "Epoch 200, Loss: 0.00534689798951149, Acc:100.00%, Test Acc: 89.47%\n",
            "Epoch 201, Loss: 0.00605666683986783, Acc:100.00%, Test Acc: 89.47%\n",
            "Epoch 202, Loss: 0.006156287621706724, Acc:100.00%, Test Acc: 89.47%\n",
            "Epoch 203, Loss: 0.004723892547190189, Acc:100.00%, Test Acc: 89.47%\n",
            "Epoch 204, Loss: 0.006547759287059307, Acc:100.00%, Test Acc: 89.47%\n",
            "Epoch 205, Loss: 0.004323058761656284, Acc:100.00%, Test Acc: 89.47%\n",
            "Epoch 206, Loss: 0.0060289474204182625, Acc:100.00%, Test Acc: 89.47%\n",
            "Epoch 207, Loss: 0.005427112337201834, Acc:100.00%, Test Acc: 89.47%\n",
            "Epoch 208, Loss: 0.006648615933954716, Acc:100.00%, Test Acc: 89.47%\n",
            "Epoch 209, Loss: 0.004550504963845015, Acc:100.00%, Test Acc: 89.47%\n",
            "Epoch 210, Loss: 0.00541607616469264, Acc:100.00%, Test Acc: 90.79%\n",
            "Epoch 211, Loss: 0.004891077987849712, Acc:100.00%, Test Acc: 89.47%\n",
            "Epoch 212, Loss: 0.004713935311883688, Acc:100.00%, Test Acc: 90.79%\n",
            "Epoch 213, Loss: 0.005587389692664146, Acc:100.00%, Test Acc: 89.47%\n",
            "Epoch 214, Loss: 0.004262974020093679, Acc:100.00%, Test Acc: 89.47%\n",
            "Epoch 215, Loss: 0.00438748998567462, Acc:100.00%, Test Acc: 89.47%\n",
            "Epoch 216, Loss: 0.004211713094264269, Acc:100.00%, Test Acc: 89.47%\n",
            "Epoch 217, Loss: 0.0044165439903736115, Acc:100.00%, Test Acc: 89.47%\n",
            "Epoch 218, Loss: 0.004621073137968779, Acc:100.00%, Test Acc: 89.47%\n",
            "Epoch 219, Loss: 0.003668887307867408, Acc:100.00%, Test Acc: 89.47%\n",
            "Epoch 220, Loss: 0.0038949865847826004, Acc:100.00%, Test Acc: 89.47%\n",
            "Epoch 221, Loss: 0.0034972650464624166, Acc:100.00%, Test Acc: 90.79%\n",
            "Epoch 222, Loss: 0.003625723300501704, Acc:100.00%, Test Acc: 89.47%\n",
            "Epoch 223, Loss: 0.0038786842487752438, Acc:100.00%, Test Acc: 89.47%\n",
            "Epoch 224, Loss: 0.0036429204046726227, Acc:100.00%, Test Acc: 89.47%\n",
            "Epoch 225, Loss: 0.003332228632643819, Acc:100.00%, Test Acc: 89.47%\n",
            "Epoch 226, Loss: 0.0035344911739230156, Acc:100.00%, Test Acc: 89.47%\n",
            "Epoch 227, Loss: 0.0033037052489817142, Acc:100.00%, Test Acc: 89.47%\n",
            "Epoch 228, Loss: 0.004116975702345371, Acc:100.00%, Test Acc: 89.47%\n",
            "Epoch 229, Loss: 0.003489020047709346, Acc:100.00%, Test Acc: 89.47%\n",
            "Epoch 230, Loss: 0.0031438928563147783, Acc:100.00%, Test Acc: 89.47%\n",
            "Epoch 231, Loss: 0.003120828652754426, Acc:100.00%, Test Acc: 89.47%\n",
            "Epoch 232, Loss: 0.0029325606301426888, Acc:100.00%, Test Acc: 89.47%\n",
            "Epoch 233, Loss: 0.003119867295026779, Acc:100.00%, Test Acc: 89.47%\n",
            "Epoch 234, Loss: 0.0033525584731251, Acc:100.00%, Test Acc: 89.47%\n",
            "Epoch 235, Loss: 0.003365654731169343, Acc:100.00%, Test Acc: 89.47%\n",
            "Epoch 236, Loss: 0.0028563817031681538, Acc:100.00%, Test Acc: 89.47%\n",
            "Epoch 237, Loss: 0.0029798487666994333, Acc:100.00%, Test Acc: 89.47%\n",
            "Epoch 238, Loss: 0.0033513521775603294, Acc:100.00%, Test Acc: 89.47%\n",
            "Epoch 239, Loss: 0.003200984327122569, Acc:100.00%, Test Acc: 90.79%\n",
            "Epoch 240, Loss: 0.0028808536008000374, Acc:100.00%, Test Acc: 89.47%\n",
            "Epoch 241, Loss: 0.002998444950208068, Acc:100.00%, Test Acc: 89.47%\n",
            "Epoch 242, Loss: 0.002608059672638774, Acc:100.00%, Test Acc: 89.47%\n",
            "Epoch 243, Loss: 0.002314324490725994, Acc:100.00%, Test Acc: 89.47%\n",
            "Epoch 244, Loss: 0.002783128758892417, Acc:100.00%, Test Acc: 89.47%\n",
            "Epoch 245, Loss: 0.00248039816506207, Acc:100.00%, Test Acc: 89.47%\n",
            "Epoch 246, Loss: 0.0023374499287456274, Acc:100.00%, Test Acc: 89.47%\n",
            "Epoch 247, Loss: 0.0025992519222199917, Acc:100.00%, Test Acc: 89.47%\n",
            "Epoch 248, Loss: 0.0025136484764516354, Acc:100.00%, Test Acc: 89.47%\n",
            "Epoch 249, Loss: 0.002237045206129551, Acc:100.00%, Test Acc: 89.47%\n",
            "Epoch 250, Loss: 0.0023543497081846, Acc:100.00%, Test Acc: 89.47%\n",
            "Epoch 251, Loss: 0.002329824026674032, Acc:100.00%, Test Acc: 89.47%\n",
            "Epoch 252, Loss: 0.0021207912359386683, Acc:100.00%, Test Acc: 89.47%\n",
            "Epoch 253, Loss: 0.0023859336506575346, Acc:100.00%, Test Acc: 89.47%\n",
            "Epoch 254, Loss: 0.002283894456923008, Acc:100.00%, Test Acc: 89.47%\n",
            "Epoch 255, Loss: 0.0023637490812689066, Acc:100.00%, Test Acc: 89.47%\n",
            "Epoch 256, Loss: 0.0025740962009876966, Acc:100.00%, Test Acc: 89.47%\n",
            "Epoch 257, Loss: 0.0021255090832710266, Acc:100.00%, Test Acc: 89.47%\n",
            "Epoch 258, Loss: 0.0023375239688903093, Acc:100.00%, Test Acc: 89.47%\n",
            "Epoch 259, Loss: 0.0020900224335491657, Acc:100.00%, Test Acc: 89.47%\n",
            "Epoch 260, Loss: 0.0021439986303448677, Acc:100.00%, Test Acc: 89.47%\n",
            "Epoch 261, Loss: 0.002033368218690157, Acc:100.00%, Test Acc: 89.47%\n",
            "Epoch 262, Loss: 0.0022354666143655777, Acc:100.00%, Test Acc: 89.47%\n",
            "Epoch 263, Loss: 0.0022735786624252796, Acc:100.00%, Test Acc: 89.47%\n",
            "Epoch 264, Loss: 0.0022255012299865484, Acc:100.00%, Test Acc: 89.47%\n",
            "Epoch 265, Loss: 0.001991644501686096, Acc:100.00%, Test Acc: 89.47%\n",
            "Epoch 266, Loss: 0.0023174001835286617, Acc:100.00%, Test Acc: 89.47%\n",
            "Epoch 267, Loss: 0.001976940780878067, Acc:100.00%, Test Acc: 89.47%\n",
            "Epoch 268, Loss: 0.0020018592476844788, Acc:100.00%, Test Acc: 89.47%\n",
            "Epoch 269, Loss: 0.0018373738275840878, Acc:100.00%, Test Acc: 89.47%\n",
            "Epoch 270, Loss: 0.0023046541027724743, Acc:100.00%, Test Acc: 89.47%\n",
            "Epoch 271, Loss: 0.0018905210308730602, Acc:100.00%, Test Acc: 89.47%\n",
            "Epoch 272, Loss: 0.0017022910760715604, Acc:100.00%, Test Acc: 89.47%\n",
            "Epoch 273, Loss: 0.0016490502748638391, Acc:100.00%, Test Acc: 89.47%\n",
            "Epoch 274, Loss: 0.0017999839037656784, Acc:100.00%, Test Acc: 89.47%\n",
            "Epoch 275, Loss: 0.0017184861935675144, Acc:100.00%, Test Acc: 89.47%\n",
            "Epoch 276, Loss: 0.001722212415188551, Acc:100.00%, Test Acc: 90.79%\n",
            "Epoch 277, Loss: 0.001442712964490056, Acc:100.00%, Test Acc: 90.79%\n",
            "Epoch 278, Loss: 0.0016592652536928654, Acc:100.00%, Test Acc: 89.47%\n",
            "Epoch 279, Loss: 0.0016454678261652589, Acc:100.00%, Test Acc: 89.47%\n",
            "Epoch 280, Loss: 0.0016076453030109406, Acc:100.00%, Test Acc: 89.47%\n",
            "Epoch 281, Loss: 0.0016818789299577475, Acc:100.00%, Test Acc: 89.47%\n",
            "Epoch 282, Loss: 0.0015814246144145727, Acc:100.00%, Test Acc: 89.47%\n",
            "Epoch 283, Loss: 0.0016969541320577264, Acc:100.00%, Test Acc: 89.47%\n",
            "Epoch 284, Loss: 0.0016293278895318508, Acc:100.00%, Test Acc: 89.47%\n",
            "Epoch 285, Loss: 0.0016769756330177188, Acc:100.00%, Test Acc: 89.47%\n",
            "Epoch 286, Loss: 0.001620762050151825, Acc:100.00%, Test Acc: 89.47%\n",
            "Epoch 287, Loss: 0.0017659193836152554, Acc:100.00%, Test Acc: 89.47%\n",
            "Epoch 288, Loss: 0.001321480143815279, Acc:100.00%, Test Acc: 89.47%\n",
            "Epoch 289, Loss: 0.0014494034694507718, Acc:100.00%, Test Acc: 89.47%\n",
            "Epoch 290, Loss: 0.0016947808908298612, Acc:100.00%, Test Acc: 89.47%\n",
            "Epoch 291, Loss: 0.0014125624438747764, Acc:100.00%, Test Acc: 89.47%\n",
            "Epoch 292, Loss: 0.001498546451330185, Acc:100.00%, Test Acc: 89.47%\n",
            "Epoch 293, Loss: 0.0013857887824997306, Acc:100.00%, Test Acc: 89.47%\n",
            "Epoch 294, Loss: 0.0015471485676243901, Acc:100.00%, Test Acc: 89.47%\n",
            "Epoch 295, Loss: 0.0015137216541916132, Acc:100.00%, Test Acc: 89.47%\n",
            "Epoch 296, Loss: 0.0013886679662391543, Acc:100.00%, Test Acc: 89.47%\n",
            "Epoch 297, Loss: 0.0012184948427602649, Acc:100.00%, Test Acc: 89.47%\n",
            "Epoch 298, Loss: 0.0015421053394675255, Acc:100.00%, Test Acc: 89.47%\n",
            "Epoch 299, Loss: 0.0011445560958236456, Acc:100.00%, Test Acc: 89.47%\n",
            "Epoch 300, Loss: 0.0016088084084913135, Acc:100.00%, Test Acc: 89.47%\n",
            "Epoch 301, Loss: 0.0014584907330572605, Acc:100.00%, Test Acc: 89.47%\n",
            "Epoch 302, Loss: 0.0015282472595572472, Acc:100.00%, Test Acc: 89.47%\n",
            "Epoch 303, Loss: 0.0013154793996363878, Acc:100.00%, Test Acc: 89.47%\n",
            "Epoch 304, Loss: 0.001266908715479076, Acc:100.00%, Test Acc: 89.47%\n",
            "Epoch 305, Loss: 0.0012933200923725963, Acc:100.00%, Test Acc: 90.79%\n",
            "Epoch 306, Loss: 0.001310152467340231, Acc:100.00%, Test Acc: 89.47%\n",
            "Epoch 307, Loss: 0.0013630450703203678, Acc:100.00%, Test Acc: 89.47%\n",
            "Epoch 308, Loss: 0.0011732220882549882, Acc:100.00%, Test Acc: 89.47%\n",
            "Epoch 309, Loss: 0.0012055820552632213, Acc:100.00%, Test Acc: 89.47%\n",
            "Epoch 310, Loss: 0.0012507167411968112, Acc:100.00%, Test Acc: 89.47%\n",
            "Epoch 311, Loss: 0.0013014307478442788, Acc:100.00%, Test Acc: 89.47%\n",
            "Epoch 312, Loss: 0.001384598552249372, Acc:100.00%, Test Acc: 89.47%\n",
            "Epoch 313, Loss: 0.0012611706042662263, Acc:100.00%, Test Acc: 89.47%\n",
            "Epoch 314, Loss: 0.0013350385706871748, Acc:100.00%, Test Acc: 89.47%\n",
            "Epoch 315, Loss: 0.0012052289675921202, Acc:100.00%, Test Acc: 89.47%\n",
            "Epoch 316, Loss: 0.0011857830686494708, Acc:100.00%, Test Acc: 89.47%\n",
            "Epoch 317, Loss: 0.0012131832772865891, Acc:100.00%, Test Acc: 89.47%\n",
            "Epoch 318, Loss: 0.0010008382378146052, Acc:100.00%, Test Acc: 89.47%\n",
            "Epoch 319, Loss: 0.00113692507147789, Acc:100.00%, Test Acc: 89.47%\n",
            "Epoch 320, Loss: 0.0010503779631108046, Acc:100.00%, Test Acc: 89.47%\n",
            "Epoch 321, Loss: 0.0014171197544783354, Acc:100.00%, Test Acc: 89.47%\n",
            "Epoch 322, Loss: 0.0010818999726325274, Acc:100.00%, Test Acc: 89.47%\n",
            "Epoch 323, Loss: 0.0011802098015323281, Acc:100.00%, Test Acc: 89.47%\n",
            "Epoch 324, Loss: 0.0011144685558974743, Acc:100.00%, Test Acc: 89.47%\n",
            "Epoch 325, Loss: 0.0010508610866963863, Acc:100.00%, Test Acc: 89.47%\n",
            "Epoch 326, Loss: 0.001008776482194662, Acc:100.00%, Test Acc: 89.47%\n",
            "Epoch 327, Loss: 0.0010989645961672068, Acc:100.00%, Test Acc: 89.47%\n",
            "Epoch 328, Loss: 0.0009748025913722813, Acc:100.00%, Test Acc: 89.47%\n",
            "Epoch 329, Loss: 0.0010413597337901592, Acc:100.00%, Test Acc: 89.47%\n",
            "Epoch 330, Loss: 0.0008658322622068226, Acc:100.00%, Test Acc: 89.47%\n",
            "Epoch 331, Loss: 0.001014852081425488, Acc:100.00%, Test Acc: 89.47%\n",
            "Epoch 332, Loss: 0.001025169505737722, Acc:100.00%, Test Acc: 89.47%\n",
            "Epoch 333, Loss: 0.0009626143728382885, Acc:100.00%, Test Acc: 89.47%\n",
            "Epoch 334, Loss: 0.0010660019470378757, Acc:100.00%, Test Acc: 89.47%\n",
            "Epoch 335, Loss: 0.0011342925718054175, Acc:100.00%, Test Acc: 89.47%\n",
            "Epoch 336, Loss: 0.0009610637789592147, Acc:100.00%, Test Acc: 89.47%\n",
            "Epoch 337, Loss: 0.0009656867478042841, Acc:100.00%, Test Acc: 89.47%\n",
            "Epoch 338, Loss: 0.0009084551711566746, Acc:100.00%, Test Acc: 89.47%\n",
            "Epoch 339, Loss: 0.0009355850052088499, Acc:100.00%, Test Acc: 89.47%\n",
            "Epoch 340, Loss: 0.001038989401422441, Acc:100.00%, Test Acc: 89.47%\n",
            "Epoch 341, Loss: 0.0008758811745792627, Acc:100.00%, Test Acc: 89.47%\n",
            "Epoch 342, Loss: 0.0011034549679607153, Acc:100.00%, Test Acc: 89.47%\n",
            "Epoch 343, Loss: 0.0009242675732821226, Acc:100.00%, Test Acc: 89.47%\n",
            "Epoch 344, Loss: 0.0009318176889792085, Acc:100.00%, Test Acc: 89.47%\n",
            "Epoch 345, Loss: 0.0008025070419535041, Acc:100.00%, Test Acc: 90.79%\n",
            "Epoch 346, Loss: 0.0008781294454820454, Acc:100.00%, Test Acc: 89.47%\n",
            "Epoch 347, Loss: 0.0007638659444637597, Acc:100.00%, Test Acc: 89.47%\n",
            "Epoch 348, Loss: 0.0009584268555045128, Acc:100.00%, Test Acc: 89.47%\n",
            "Epoch 349, Loss: 0.0010112908203154802, Acc:100.00%, Test Acc: 89.47%\n",
            "Epoch 350, Loss: 0.0008481787517666817, Acc:100.00%, Test Acc: 89.47%\n",
            "Epoch 351, Loss: 0.000899850158020854, Acc:100.00%, Test Acc: 89.47%\n",
            "Epoch 352, Loss: 0.0009980067843571305, Acc:100.00%, Test Acc: 89.47%\n",
            "Epoch 353, Loss: 0.0009365734294988215, Acc:100.00%, Test Acc: 89.47%\n",
            "Epoch 354, Loss: 0.000983877805992961, Acc:100.00%, Test Acc: 89.47%\n",
            "Epoch 355, Loss: 0.0007477697217836976, Acc:100.00%, Test Acc: 89.47%\n",
            "Epoch 356, Loss: 0.0009258072241209447, Acc:100.00%, Test Acc: 89.47%\n",
            "Epoch 357, Loss: 0.0008151532965712249, Acc:100.00%, Test Acc: 89.47%\n",
            "Epoch 358, Loss: 0.0008237859583459795, Acc:100.00%, Test Acc: 90.79%\n",
            "Epoch 359, Loss: 0.0008847503922879696, Acc:100.00%, Test Acc: 89.47%\n",
            "Epoch 360, Loss: 0.0007644384168088436, Acc:100.00%, Test Acc: 90.79%\n",
            "Epoch 361, Loss: 0.0009450577781535685, Acc:100.00%, Test Acc: 89.47%\n",
            "Epoch 362, Loss: 0.0008597985724918544, Acc:100.00%, Test Acc: 90.79%\n",
            "Epoch 363, Loss: 0.0008134061936289072, Acc:100.00%, Test Acc: 90.79%\n",
            "Epoch 364, Loss: 0.0007706491742283106, Acc:100.00%, Test Acc: 89.47%\n",
            "Epoch 365, Loss: 0.0008338118786923587, Acc:100.00%, Test Acc: 90.79%\n",
            "Epoch 366, Loss: 0.0007700572023168206, Acc:100.00%, Test Acc: 89.47%\n",
            "Epoch 367, Loss: 0.0007753300596959889, Acc:100.00%, Test Acc: 89.47%\n",
            "Epoch 368, Loss: 0.0008796847541816533, Acc:100.00%, Test Acc: 89.47%\n",
            "Epoch 369, Loss: 0.0007980685913935304, Acc:100.00%, Test Acc: 89.47%\n",
            "Epoch 370, Loss: 0.0007898973417468369, Acc:100.00%, Test Acc: 89.47%\n",
            "Epoch 371, Loss: 0.0006904120091348886, Acc:100.00%, Test Acc: 90.79%\n",
            "Epoch 372, Loss: 0.0007024546503089368, Acc:100.00%, Test Acc: 89.47%\n",
            "Epoch 373, Loss: 0.0006938249571248889, Acc:100.00%, Test Acc: 89.47%\n",
            "Epoch 374, Loss: 0.0008806491969153285, Acc:100.00%, Test Acc: 89.47%\n",
            "Epoch 375, Loss: 0.0006671790033578873, Acc:100.00%, Test Acc: 89.47%\n",
            "Epoch 376, Loss: 0.0008659933810122311, Acc:100.00%, Test Acc: 89.47%\n",
            "Epoch 377, Loss: 0.0006907340721227229, Acc:100.00%, Test Acc: 89.47%\n",
            "Epoch 378, Loss: 0.000959622033406049, Acc:100.00%, Test Acc: 89.47%\n",
            "Epoch 379, Loss: 0.0008415596093982458, Acc:100.00%, Test Acc: 89.47%\n",
            "Epoch 380, Loss: 0.0007150758756324649, Acc:100.00%, Test Acc: 89.47%\n",
            "Epoch 381, Loss: 0.0006719915545545518, Acc:100.00%, Test Acc: 89.47%\n",
            "Epoch 382, Loss: 0.0007905249949544668, Acc:100.00%, Test Acc: 89.47%\n",
            "Epoch 383, Loss: 0.0006980794714763761, Acc:100.00%, Test Acc: 89.47%\n",
            "Epoch 384, Loss: 0.0006682817474938929, Acc:100.00%, Test Acc: 89.47%\n",
            "Epoch 385, Loss: 0.0007547310087829828, Acc:100.00%, Test Acc: 89.47%\n",
            "Epoch 386, Loss: 0.000651543727144599, Acc:100.00%, Test Acc: 89.47%\n",
            "Epoch 387, Loss: 0.000623697938863188, Acc:100.00%, Test Acc: 89.47%\n",
            "Epoch 388, Loss: 0.000604072178248316, Acc:100.00%, Test Acc: 89.47%\n",
            "Epoch 389, Loss: 0.0007235000957734883, Acc:100.00%, Test Acc: 89.47%\n",
            "Epoch 390, Loss: 0.0006183484219945967, Acc:100.00%, Test Acc: 89.47%\n",
            "Epoch 391, Loss: 0.0006240754737518728, Acc:100.00%, Test Acc: 89.47%\n",
            "Epoch 392, Loss: 0.0006133568822406232, Acc:100.00%, Test Acc: 89.47%\n",
            "Epoch 393, Loss: 0.0005589306238107383, Acc:100.00%, Test Acc: 89.47%\n",
            "Epoch 394, Loss: 0.000564331014174968, Acc:100.00%, Test Acc: 89.47%\n",
            "Epoch 395, Loss: 0.0006547545781359076, Acc:100.00%, Test Acc: 90.79%\n",
            "Epoch 396, Loss: 0.0005494893412105739, Acc:100.00%, Test Acc: 89.47%\n",
            "Epoch 397, Loss: 0.000622178369667381, Acc:100.00%, Test Acc: 89.47%\n",
            "Epoch 398, Loss: 0.0006987369270063937, Acc:100.00%, Test Acc: 89.47%\n",
            "Epoch 399, Loss: 0.000648622983135283, Acc:100.00%, Test Acc: 90.79%\n",
            "Epoch 400, Loss: 0.0006126413936726749, Acc:100.00%, Test Acc: 89.47%\n",
            "Epoch 401, Loss: 0.0005948635516688228, Acc:100.00%, Test Acc: 89.47%\n",
            "Epoch 402, Loss: 0.0005993395461700857, Acc:100.00%, Test Acc: 89.47%\n",
            "Epoch 403, Loss: 0.0006253174506127834, Acc:100.00%, Test Acc: 89.47%\n",
            "Epoch 404, Loss: 0.0005589558277279139, Acc:100.00%, Test Acc: 89.47%\n",
            "Epoch 405, Loss: 0.0005633983528241515, Acc:100.00%, Test Acc: 89.47%\n",
            "Epoch 406, Loss: 0.0005654151318594813, Acc:100.00%, Test Acc: 89.47%\n",
            "Epoch 407, Loss: 0.0004849469114560634, Acc:100.00%, Test Acc: 89.47%\n",
            "Epoch 408, Loss: 0.0006418627453967929, Acc:100.00%, Test Acc: 89.47%\n",
            "Epoch 409, Loss: 0.0005842431564815342, Acc:100.00%, Test Acc: 90.79%\n",
            "Epoch 410, Loss: 0.0004849408578593284, Acc:100.00%, Test Acc: 89.47%\n",
            "Epoch 411, Loss: 0.0006183030200190842, Acc:100.00%, Test Acc: 89.47%\n",
            "Epoch 412, Loss: 0.0005647012148983777, Acc:100.00%, Test Acc: 89.47%\n",
            "Epoch 413, Loss: 0.0004975975607521832, Acc:100.00%, Test Acc: 90.79%\n",
            "Epoch 414, Loss: 0.0005758805782534182, Acc:100.00%, Test Acc: 89.47%\n",
            "Epoch 415, Loss: 0.0005405489937402308, Acc:100.00%, Test Acc: 89.47%\n",
            "Epoch 416, Loss: 0.0005377159686759114, Acc:100.00%, Test Acc: 89.47%\n",
            "Epoch 417, Loss: 0.0004655748198274523, Acc:100.00%, Test Acc: 89.47%\n",
            "Epoch 418, Loss: 0.00044490184518508613, Acc:100.00%, Test Acc: 89.47%\n",
            "Epoch 419, Loss: 0.000483441399410367, Acc:100.00%, Test Acc: 89.47%\n",
            "Epoch 420, Loss: 0.0006109765381552279, Acc:100.00%, Test Acc: 89.47%\n",
            "Epoch 421, Loss: 0.0004495223693083972, Acc:100.00%, Test Acc: 89.47%\n",
            "Epoch 422, Loss: 0.0005707638338208199, Acc:100.00%, Test Acc: 89.47%\n",
            "Epoch 423, Loss: 0.00046849771752022207, Acc:100.00%, Test Acc: 89.47%\n",
            "Epoch 424, Loss: 0.0005486418376676738, Acc:100.00%, Test Acc: 89.47%\n",
            "Epoch 425, Loss: 0.0004420408222358674, Acc:100.00%, Test Acc: 89.47%\n",
            "Epoch 426, Loss: 0.0003786825982388109, Acc:100.00%, Test Acc: 89.47%\n",
            "Epoch 427, Loss: 0.0004648538015317172, Acc:100.00%, Test Acc: 89.47%\n",
            "Epoch 428, Loss: 0.0004291044606361538, Acc:100.00%, Test Acc: 89.47%\n",
            "Epoch 429, Loss: 0.0005495717050507665, Acc:100.00%, Test Acc: 89.47%\n",
            "Epoch 430, Loss: 0.0004940240178257227, Acc:100.00%, Test Acc: 89.47%\n",
            "Epoch 431, Loss: 0.0004932236042805016, Acc:100.00%, Test Acc: 90.79%\n",
            "Epoch 432, Loss: 0.0005689030513167381, Acc:100.00%, Test Acc: 89.47%\n",
            "Epoch 433, Loss: 0.0005397769855335355, Acc:100.00%, Test Acc: 89.47%\n",
            "Epoch 434, Loss: 0.00040945125510916114, Acc:100.00%, Test Acc: 89.47%\n",
            "Epoch 435, Loss: 0.0005093179643154144, Acc:100.00%, Test Acc: 89.47%\n",
            "Epoch 436, Loss: 0.0004813671694137156, Acc:100.00%, Test Acc: 89.47%\n",
            "Epoch 437, Loss: 0.00048098480328917503, Acc:100.00%, Test Acc: 89.47%\n",
            "Epoch 438, Loss: 0.0004136808274779469, Acc:100.00%, Test Acc: 89.47%\n",
            "Epoch 439, Loss: 0.0004083974927198142, Acc:100.00%, Test Acc: 89.47%\n",
            "Epoch 440, Loss: 0.00039787482819519937, Acc:100.00%, Test Acc: 89.47%\n",
            "Epoch 441, Loss: 0.0004829222452826798, Acc:100.00%, Test Acc: 89.47%\n",
            "Epoch 442, Loss: 0.00043369049672037363, Acc:100.00%, Test Acc: 89.47%\n",
            "Epoch 443, Loss: 0.0004142801044508815, Acc:100.00%, Test Acc: 89.47%\n",
            "Epoch 444, Loss: 0.00043445234769023955, Acc:100.00%, Test Acc: 89.47%\n",
            "Epoch 445, Loss: 0.0005040084361098707, Acc:100.00%, Test Acc: 89.47%\n",
            "Epoch 446, Loss: 0.0004479461058508605, Acc:100.00%, Test Acc: 89.47%\n",
            "Epoch 447, Loss: 0.0004407862143125385, Acc:100.00%, Test Acc: 89.47%\n",
            "Epoch 448, Loss: 0.0003611370630096644, Acc:100.00%, Test Acc: 89.47%\n",
            "Epoch 449, Loss: 0.00035561155527830124, Acc:100.00%, Test Acc: 89.47%\n",
            "Epoch 450, Loss: 0.00046713350457139313, Acc:100.00%, Test Acc: 89.47%\n",
            "Epoch 451, Loss: 0.00045094452798366547, Acc:100.00%, Test Acc: 89.47%\n",
            "Epoch 452, Loss: 0.00040090325637720525, Acc:100.00%, Test Acc: 89.47%\n",
            "Epoch 453, Loss: 0.0003139328910037875, Acc:100.00%, Test Acc: 89.47%\n",
            "Epoch 454, Loss: 0.0004274549428373575, Acc:100.00%, Test Acc: 89.47%\n",
            "Epoch 455, Loss: 0.00043848567293025553, Acc:100.00%, Test Acc: 89.47%\n",
            "Epoch 456, Loss: 0.00034775680978782475, Acc:100.00%, Test Acc: 89.47%\n",
            "Epoch 457, Loss: 0.00046141649363562465, Acc:100.00%, Test Acc: 89.47%\n",
            "Epoch 458, Loss: 0.00041384456562809646, Acc:100.00%, Test Acc: 89.47%\n",
            "Epoch 459, Loss: 0.00047276247642003, Acc:100.00%, Test Acc: 89.47%\n",
            "Epoch 460, Loss: 0.00044073432218283415, Acc:100.00%, Test Acc: 89.47%\n",
            "Epoch 461, Loss: 0.0003823180159088224, Acc:100.00%, Test Acc: 89.47%\n",
            "Epoch 462, Loss: 0.0003653756866697222, Acc:100.00%, Test Acc: 89.47%\n",
            "Epoch 463, Loss: 0.0003897799178957939, Acc:100.00%, Test Acc: 89.47%\n",
            "Epoch 464, Loss: 0.0004053056472912431, Acc:100.00%, Test Acc: 90.79%\n",
            "Epoch 465, Loss: 0.0004458538314793259, Acc:100.00%, Test Acc: 89.47%\n",
            "Epoch 466, Loss: 0.0004581710381899029, Acc:100.00%, Test Acc: 89.47%\n",
            "Epoch 467, Loss: 0.0003653485036920756, Acc:100.00%, Test Acc: 89.47%\n",
            "Epoch 468, Loss: 0.0004442511417437345, Acc:100.00%, Test Acc: 89.47%\n",
            "Epoch 469, Loss: 0.000387529784347862, Acc:100.00%, Test Acc: 89.47%\n",
            "Epoch 470, Loss: 0.0004031280695926398, Acc:100.00%, Test Acc: 90.79%\n",
            "Epoch 471, Loss: 0.00041794104618020356, Acc:100.00%, Test Acc: 90.79%\n",
            "Epoch 472, Loss: 0.000347441149642691, Acc:100.00%, Test Acc: 89.47%\n",
            "Epoch 473, Loss: 0.0003669454308692366, Acc:100.00%, Test Acc: 89.47%\n",
            "Epoch 474, Loss: 0.0003315084322821349, Acc:100.00%, Test Acc: 89.47%\n",
            "Epoch 475, Loss: 0.00041641350253485143, Acc:100.00%, Test Acc: 89.47%\n",
            "Epoch 476, Loss: 0.00033083977177739143, Acc:100.00%, Test Acc: 90.79%\n",
            "Epoch 477, Loss: 0.00037428553332574666, Acc:100.00%, Test Acc: 89.47%\n",
            "Epoch 478, Loss: 0.00039300008211284876, Acc:100.00%, Test Acc: 89.47%\n",
            "Epoch 479, Loss: 0.00031580706126987934, Acc:100.00%, Test Acc: 89.47%\n",
            "Epoch 480, Loss: 0.000315212324494496, Acc:100.00%, Test Acc: 89.47%\n",
            "Epoch 481, Loss: 0.00035440019564703107, Acc:100.00%, Test Acc: 89.47%\n",
            "Epoch 482, Loss: 0.0003541891055647284, Acc:100.00%, Test Acc: 89.47%\n",
            "Epoch 483, Loss: 0.0003740417887456715, Acc:100.00%, Test Acc: 89.47%\n",
            "Epoch 484, Loss: 0.0003583461802918464, Acc:100.00%, Test Acc: 89.47%\n",
            "Epoch 485, Loss: 0.00030599330784752965, Acc:100.00%, Test Acc: 89.47%\n",
            "Epoch 486, Loss: 0.00027877691900357604, Acc:100.00%, Test Acc: 89.47%\n",
            "Epoch 487, Loss: 0.0003442399320192635, Acc:100.00%, Test Acc: 89.47%\n",
            "Epoch 488, Loss: 0.0003430674260016531, Acc:100.00%, Test Acc: 89.47%\n",
            "Epoch 489, Loss: 0.00028939536423422396, Acc:100.00%, Test Acc: 89.47%\n",
            "Epoch 490, Loss: 0.0003150329284835607, Acc:100.00%, Test Acc: 89.47%\n",
            "Epoch 491, Loss: 0.00029688337235711515, Acc:100.00%, Test Acc: 89.47%\n",
            "Epoch 492, Loss: 0.0002967514155898243, Acc:100.00%, Test Acc: 89.47%\n",
            "Epoch 493, Loss: 0.0003074095002375543, Acc:100.00%, Test Acc: 89.47%\n",
            "Epoch 494, Loss: 0.00031349723576568067, Acc:100.00%, Test Acc: 89.47%\n",
            "Epoch 495, Loss: 0.0003177751204930246, Acc:100.00%, Test Acc: 89.47%\n",
            "Epoch 496, Loss: 0.0002965988824144006, Acc:100.00%, Test Acc: 89.47%\n",
            "Epoch 497, Loss: 0.0002668671077117324, Acc:100.00%, Test Acc: 89.47%\n",
            "Epoch 498, Loss: 0.00031988442060537636, Acc:100.00%, Test Acc: 90.79%\n",
            "Epoch 499, Loss: 0.0003277983341831714, Acc:100.00%, Test Acc: 89.47%\n"
          ]
        },
        {
          "output_type": "execute_result",
          "data": {
            "text/plain": [
              "<All keys matched successfully>"
            ]
          },
          "metadata": {},
          "execution_count": 83
        }
      ]
    },
    {
      "cell_type": "code",
      "source": [
        "import matplotlib.pyplot as plt \n",
        "plt.plot(losses)"
      ],
      "metadata": {
        "colab": {
          "base_uri": "https://localhost:8080/",
          "height": 283
        },
        "id": "UglMrQGeL6_6",
        "outputId": "0b017beb-e2ea-4405-f928-9a7bee481210"
      },
      "execution_count": null,
      "outputs": [
        {
          "output_type": "execute_result",
          "data": {
            "text/plain": [
              "[<matplotlib.lines.Line2D at 0x7fba14bf7370>]"
            ]
          },
          "metadata": {},
          "execution_count": 84
        },
        {
          "output_type": "display_data",
          "data": {
            "text/plain": [
              "<Figure size 432x288 with 1 Axes>"
            ],
            "image/png": "[encoded data removed]"
          },
          "metadata": {
            "needs_background": "light"
          }
        }
      ]
    },
    {
      "cell_type": "code",
      "source": [
        "pred_test = net(X_test)\n",
        "_, preds_y = torch.max(pred_test, 1)"
      ],
      "metadata": {
        "id": "elC7Mj9WREA2"
      },
      "execution_count": null,
      "outputs": []
    },
    {
      "cell_type": "code",
      "source": [
        "accuracy_score(y_test, preds_y)\n"
      ],
      "metadata": {
        "colab": {
          "base_uri": "https://localhost:8080/"
        },
        "id": "n-zD-LTERH62",
        "outputId": "8b38ab52-773a-4d3e-b158-b9e936fac9b5"
      },
      "execution_count": null,
      "outputs": [
        {
          "output_type": "execute_result",
          "data": {
            "text/plain": [
              "0.8947368421052632"
            ]
          },
          "metadata": {},
          "execution_count": 86
        }
      ]
    },
    {
      "cell_type": "code",
      "source": [
        "print(classification_report(y_test, preds_y))"
      ],
      "metadata": {
        "colab": {
          "base_uri": "https://localhost:8080/"
        },
        "id": "bjEEbEszRL-Y",
        "outputId": "59765ded-20d6-4620-8f89-edd879c3926b"
      },
      "execution_count": null,
      "outputs": [
        {
          "output_type": "stream",
          "name": "stdout",
          "text": [
            "              precision    recall  f1-score   support\n",
            "\n",
            "           0       0.86      0.91      0.89        35\n",
            "           1       0.92      0.88      0.90        41\n",
            "\n",
            "    accuracy                           0.89        76\n",
            "   macro avg       0.89      0.90      0.89        76\n",
            "weighted avg       0.90      0.89      0.89        76\n",
            "\n"
          ]
        }
      ]
    },
    {
      "cell_type": "code",
      "source": [
        "con_mat = confusion_matrix(y_test, preds_y)\n",
        "print(con_mat)"
      ],
      "metadata": {
        "colab": {
          "base_uri": "https://localhost:8080/"
        },
        "id": "jFMVZtv3RQBk",
        "outputId": "d641c208-c6f6-4188-bad9-b41b4b6a80ed"
      },
      "execution_count": null,
      "outputs": [
        {
          "output_type": "stream",
          "name": "stdout",
          "text": [
            "[[32  3]\n",
            " [ 5 36]]\n"
          ]
        }
      ]
    },
    {
      "cell_type": "code",
      "source": [
        "import seaborn as sn\n",
        "df_cm = pd.DataFrame(con_mat)\n",
        "plt.figure(figsize = (10,7))\n",
        "sn.heatmap(df_cm, annot=True)"
      ],
      "metadata": {
        "id": "VdT7Bv9sRUEy",
        "colab": {
          "base_uri": "https://localhost:8080/",
          "height": 446
        },
        "outputId": "e30ae7d5-68e7-465a-923d-cef2283cd556"
      },
      "execution_count": null,
      "outputs": [
        {
          "output_type": "execute_result",
          "data": {
            "text/plain": [
              "<matplotlib.axes._subplots.AxesSubplot at 0x7fba14ba7280>"
            ]
          },
          "metadata": {},
          "execution_count": 89
        },
        {
          "output_type": "display_data",
          "data": {
            "text/plain": [
              "<Figure size 720x504 with 2 Axes>"
            ],
            "image/png": "[encoded data removed]"
          },
          "metadata": {
            "needs_background": "light"
          }
        }
      ]
    }
  ]
}